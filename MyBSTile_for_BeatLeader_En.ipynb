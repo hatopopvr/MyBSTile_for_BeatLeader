{
  "cells": [
    {
      "cell_type": "markdown",
      "metadata": {
        "id": "view-in-github",
        "colab_type": "text"
      },
      "source": [
        "<a href=\"https://colab.research.google.com/github/hatopopvr/MyBSTile_for_BeatLeader/blob/main/MyBSTile_for_BeatLeader_En.ipynb\" target=\"_parent\"><img src=\"https://colab.research.google.com/assets/colab-badge.svg\" alt=\"Open In Colab\"/></a>"
      ]
    },
    {
      "cell_type": "markdown",
      "metadata": {
        "id": "ipYHPC7H701I"
      },
      "source": [
        "## MyBSTile_for_BeatLeader_En\n",
        "<b>Data</b>\n",
        "- Score Data form BeatLeader-Server v1 API - [doc](https://api.beatleader.xyz/swagger/index.html)  \n",
        "- Cover Image from - https://eu.cdn.beatsaver.com/{hash}.jpg\n",
        "- Player Image from - https://cdn.beatleader.xyz/assets/{player_id}.png\n",
        "\n",
        "<b>Author</b>\n",
        "- hatopop ([@hatopop_vr](https://twitter.com/hatopop_vr))"
      ],
      "id": "ipYHPC7H701I"
    },
    {
      "cell_type": "code",
      "execution_count": 104,
      "metadata": {
        "id": "Zgpr4DqIzPth",
        "outputId": "06f41214-b6ef-454d-e240-7fe9beaf51e5",
        "colab": {
          "base_uri": "https://localhost:8080/",
          "height": 273
        }
      },
      "outputs": [
        {
          "output_type": "display_data",
          "data": {
            "text/plain": [
              "<IPython.core.display.Javascript object>"
            ],
            "application/javascript": [
              "google.colab.output.setIframeHeight(0, true, {maxHeight: 5000})"
            ]
          },
          "metadata": {}
        },
        {
          "output_type": "display_data",
          "data": {
            "text/plain": [
              "<IPython.core.display.Javascript object>"
            ],
            "application/javascript": [
              "google.colab.output.setIframeHeight(0, true, {maxHeight: 5000})"
            ]
          },
          "metadata": {}
        },
        {
          "output_type": "display_data",
          "data": {
            "text/plain": [
              "<IPython.core.display.Javascript object>"
            ],
            "application/javascript": [
              "google.colab.output.setIframeHeight(0, true, {maxHeight: 5000})"
            ]
          },
          "metadata": {}
        },
        {
          "output_type": "display_data",
          "data": {
            "text/plain": [
              "<IPython.core.display.Javascript object>"
            ],
            "application/javascript": [
              "google.colab.output.setIframeHeight(0, true, {maxHeight: 5000})"
            ]
          },
          "metadata": {}
        },
        {
          "output_type": "display_data",
          "data": {
            "text/plain": [
              "<IPython.core.display.Javascript object>"
            ],
            "application/javascript": [
              "google.colab.output.setIframeHeight(0, true, {maxHeight: 5000})"
            ]
          },
          "metadata": {}
        },
        {
          "output_type": "display_data",
          "data": {
            "text/plain": [
              "<IPython.core.display.Javascript object>"
            ],
            "application/javascript": [
              "google.colab.output.setIframeHeight(0, true, {maxHeight: 5000})"
            ]
          },
          "metadata": {}
        },
        {
          "output_type": "display_data",
          "data": {
            "text/plain": [
              "<IPython.core.display.Javascript object>"
            ],
            "application/javascript": [
              "google.colab.output.setIframeHeight(0, true, {maxHeight: 5000})"
            ]
          },
          "metadata": {}
        },
        {
          "output_type": "display_data",
          "data": {
            "text/plain": [
              "<IPython.core.display.Javascript object>"
            ],
            "application/javascript": [
              "google.colab.output.setIframeHeight(0, true, {maxHeight: 5000})"
            ]
          },
          "metadata": {}
        },
        {
          "output_type": "display_data",
          "data": {
            "text/plain": [
              "<IPython.core.display.Javascript object>"
            ],
            "application/javascript": [
              "google.colab.output.setIframeHeight(0, true, {maxHeight: 5000})"
            ]
          },
          "metadata": {}
        },
        {
          "output_type": "display_data",
          "data": {
            "text/plain": [
              "<IPython.core.display.Javascript object>"
            ],
            "application/javascript": [
              "google.colab.output.setIframeHeight(0, true, {maxHeight: 5000})"
            ]
          },
          "metadata": {}
        },
        {
          "output_type": "display_data",
          "data": {
            "text/plain": [
              "<IPython.core.display.Javascript object>"
            ],
            "application/javascript": [
              "google.colab.output.setIframeHeight(0, true, {maxHeight: 5000})"
            ]
          },
          "metadata": {}
        },
        {
          "output_type": "display_data",
          "data": {
            "text/plain": [
              "<IPython.core.display.Javascript object>"
            ],
            "application/javascript": [
              "google.colab.output.setIframeHeight(0, true, {maxHeight: 5000})"
            ]
          },
          "metadata": {}
        },
        {
          "output_type": "display_data",
          "data": {
            "text/plain": [
              "<IPython.core.display.Javascript object>"
            ],
            "application/javascript": [
              "google.colab.output.setIframeHeight(0, true, {maxHeight: 5000})"
            ]
          },
          "metadata": {}
        },
        {
          "output_type": "display_data",
          "data": {
            "text/plain": [
              "<IPython.core.display.Javascript object>"
            ],
            "application/javascript": [
              "google.colab.output.setIframeHeight(0, true, {maxHeight: 5000})"
            ]
          },
          "metadata": {}
        },
        {
          "output_type": "display_data",
          "data": {
            "text/plain": [
              "<IPython.core.display.Javascript object>"
            ],
            "application/javascript": [
              "google.colab.output.setIframeHeight(0, true, {maxHeight: 5000})"
            ]
          },
          "metadata": {}
        },
        {
          "output_type": "display_data",
          "data": {
            "text/plain": [
              "<IPython.core.display.Javascript object>"
            ],
            "application/javascript": [
              "google.colab.output.setIframeHeight(0, true, {maxHeight: 5000})"
            ]
          },
          "metadata": {}
        },
        {
          "output_type": "display_data",
          "data": {
            "text/plain": [
              "<IPython.core.display.Javascript object>"
            ],
            "application/javascript": [
              "google.colab.output.setIframeHeight(0, true, {maxHeight: 5000})"
            ]
          },
          "metadata": {}
        },
        {
          "output_type": "display_data",
          "data": {
            "text/plain": [
              "<IPython.core.display.Javascript object>"
            ],
            "application/javascript": [
              "google.colab.output.setIframeHeight(0, true, {maxHeight: 5000})"
            ]
          },
          "metadata": {}
        },
        {
          "output_type": "display_data",
          "data": {
            "text/plain": [
              "<IPython.core.display.Javascript object>"
            ],
            "application/javascript": [
              "google.colab.output.setIframeHeight(0, true, {maxHeight: 5000})"
            ]
          },
          "metadata": {}
        },
        {
          "output_type": "display_data",
          "data": {
            "text/plain": [
              "<IPython.core.display.Javascript object>"
            ],
            "application/javascript": [
              "google.colab.output.setIframeHeight(0, true, {maxHeight: 5000})"
            ]
          },
          "metadata": {}
        },
        {
          "output_type": "display_data",
          "data": {
            "text/plain": [
              "<IPython.core.display.Javascript object>"
            ],
            "application/javascript": [
              "google.colab.output.setIframeHeight(0, true, {maxHeight: 5000})"
            ]
          },
          "metadata": {}
        },
        {
          "output_type": "display_data",
          "data": {
            "text/plain": [
              "<IPython.core.display.Javascript object>"
            ],
            "application/javascript": [
              "google.colab.output.setIframeHeight(0, true, {maxHeight: 5000})"
            ]
          },
          "metadata": {}
        },
        {
          "output_type": "display_data",
          "data": {
            "text/plain": [
              "<IPython.core.display.Javascript object>"
            ],
            "application/javascript": [
              "google.colab.output.setIframeHeight(0, true, {maxHeight: 5000})"
            ]
          },
          "metadata": {}
        },
        {
          "output_type": "display_data",
          "data": {
            "text/plain": [
              "<IPython.core.display.Javascript object>"
            ],
            "application/javascript": [
              "google.colab.output.setIframeHeight(0, true, {maxHeight: 5000})"
            ]
          },
          "metadata": {}
        },
        {
          "output_type": "display_data",
          "data": {
            "text/plain": [
              "<IPython.core.display.Javascript object>"
            ],
            "application/javascript": [
              "google.colab.output.setIframeHeight(0, true, {maxHeight: 5000})"
            ]
          },
          "metadata": {}
        },
        {
          "output_type": "display_data",
          "data": {
            "text/plain": [
              "<IPython.core.display.Javascript object>"
            ],
            "application/javascript": [
              "google.colab.output.setIframeHeight(0, true, {maxHeight: 5000})"
            ]
          },
          "metadata": {}
        },
        {
          "output_type": "display_data",
          "data": {
            "text/plain": [
              "<IPython.core.display.Javascript object>"
            ],
            "application/javascript": [
              "google.colab.output.setIframeHeight(0, true, {maxHeight: 5000})"
            ]
          },
          "metadata": {}
        },
        {
          "output_type": "display_data",
          "data": {
            "text/plain": [
              "<IPython.core.display.Javascript object>"
            ],
            "application/javascript": [
              "google.colab.output.setIframeHeight(0, true, {maxHeight: 5000})"
            ]
          },
          "metadata": {}
        },
        {
          "output_type": "display_data",
          "data": {
            "text/plain": [
              "<IPython.core.display.Javascript object>"
            ],
            "application/javascript": [
              "google.colab.output.setIframeHeight(0, true, {maxHeight: 5000})"
            ]
          },
          "metadata": {}
        },
        {
          "output_type": "display_data",
          "data": {
            "text/plain": [
              "<IPython.core.display.Javascript object>"
            ],
            "application/javascript": [
              "google.colab.output.setIframeHeight(0, true, {maxHeight: 5000})"
            ]
          },
          "metadata": {}
        },
        {
          "output_type": "display_data",
          "data": {
            "text/plain": [
              "<IPython.core.display.Javascript object>"
            ],
            "application/javascript": [
              "google.colab.output.setIframeHeight(0, true, {maxHeight: 5000})"
            ]
          },
          "metadata": {}
        },
        {
          "output_type": "display_data",
          "data": {
            "text/plain": [
              "<IPython.core.display.Javascript object>"
            ],
            "application/javascript": [
              "google.colab.output.setIframeHeight(0, true, {maxHeight: 5000})"
            ]
          },
          "metadata": {}
        },
        {
          "output_type": "display_data",
          "data": {
            "text/plain": [
              "<IPython.core.display.Javascript object>"
            ],
            "application/javascript": [
              "google.colab.output.setIframeHeight(0, true, {maxHeight: 5000})"
            ]
          },
          "metadata": {}
        },
        {
          "output_type": "display_data",
          "data": {
            "text/plain": [
              "<IPython.core.display.Javascript object>"
            ],
            "application/javascript": [
              "google.colab.output.setIframeHeight(0, true, {maxHeight: 5000})"
            ]
          },
          "metadata": {}
        },
        {
          "output_type": "display_data",
          "data": {
            "text/plain": [
              "<IPython.core.display.Javascript object>"
            ],
            "application/javascript": [
              "google.colab.output.setIframeHeight(0, true, {maxHeight: 5000})"
            ]
          },
          "metadata": {}
        },
        {
          "output_type": "display_data",
          "data": {
            "text/plain": [
              "<IPython.core.display.Javascript object>"
            ],
            "application/javascript": [
              "google.colab.output.setIframeHeight(0, true, {maxHeight: 5000})"
            ]
          },
          "metadata": {}
        },
        {
          "output_type": "display_data",
          "data": {
            "text/plain": [
              "<IPython.core.display.Javascript object>"
            ],
            "application/javascript": [
              "google.colab.output.setIframeHeight(0, true, {maxHeight: 5000})"
            ]
          },
          "metadata": {}
        },
        {
          "output_type": "display_data",
          "data": {
            "text/plain": [
              "<IPython.core.display.Javascript object>"
            ],
            "application/javascript": [
              "google.colab.output.setIframeHeight(0, true, {maxHeight: 5000})"
            ]
          },
          "metadata": {}
        },
        {
          "output_type": "display_data",
          "data": {
            "text/plain": [
              "<IPython.core.display.Javascript object>"
            ],
            "application/javascript": [
              "google.colab.output.setIframeHeight(0, true, {maxHeight: 5000})"
            ]
          },
          "metadata": {}
        },
        {
          "output_type": "display_data",
          "data": {
            "text/plain": [
              "<IPython.core.display.Javascript object>"
            ],
            "application/javascript": [
              "google.colab.output.setIframeHeight(0, true, {maxHeight: 5000})"
            ]
          },
          "metadata": {}
        },
        {
          "output_type": "stream",
          "name": "stdout",
          "text": [
            "\n",
            "50 results retrieved\n",
            "\n"
          ]
        },
        {
          "output_type": "execute_result",
          "data": {
            "text/plain": [
              "<IPython.core.display.HTML object>"
            ],
            "text/html": [
              "\n",
              "            <div class='flex_item'><a href='https://www.beatleader.xyz/u/76561198412839195' target='_blank'><img src='https://cdn.beatleader.xyz/assets/76561198412839195.png' style='width:200px;height:200px'/></a><br/>\n",
              "                <div class='flex_str_top'>\n",
              "                    <div class='flex_player'>hatopop</div>\n",
              "                    <div class='flex_song'>RankedPlay:316(Total:477)</div>\n",
              "                </div>\n",
              "                <div class='flex_str_bottom_left'>\n",
              "                    <div><span class='flex_acc' style='color: #ff4500; font-weight: bold;'>92.05%</span></div>\n",
              "                    <div><span class='flex_pp' style='color: #cccc66'>7192.3pp</span></div>\n",
              "                </div>\n",
              "                <div class='flex_str_bottom_right'>\n",
              "                    <div class='flex_rank' style='color: #ff8800'>#84[JP]</div>\n",
              "                    <div class='flex_rank' style='color: #00ccff'>#1,079</div>\n",
              "                </div>\n",
              "            </div>\n",
              "            \n",
              "    <style>\n",
              "    .flex_item {\n",
              "        display: inline-block;\n",
              "        position: relative;\n",
              "        padding:0px 5px 0px 0px;\n",
              "        margin:0px;\n",
              "    }\n",
              "    .flex_str_top, .flex_str_bottom_left, .flex_str_bottom_right{\n",
              "        position: absolute;\n",
              "        font-weight: bold;\n",
              "        white-space:nowrap;\n",
              "        overflow:hidden;\n",
              "        color: #000;\n",
              "        width:190px;\n",
              "        text-shadow:1px 1px 0 #FFF, -1px -1px 0 #FFF,\n",
              "                -1px 1px 0 #FFF, 1px -1px 0 #FFF,\n",
              "                0px 1px 0 #FFF,  0-1px 0 #FFF,\n",
              "                -1px 0 0 #FFF, 1px 0 0 #FFF;\n",
              "    }\n",
              "\n",
              "    .flex_str_top {\n",
              "        left: 5px;\n",
              "        top: 5px;\n",
              "    }\n",
              "\n",
              "    .flex_str_bottom_left {\n",
              "        text-align:right;\n",
              "        left: 5px;\n",
              "        bottom: 5px;\n",
              "    }\n",
              "\n",
              "    .flex_str_bottom_right {\n",
              "        left: 5px;\n",
              "        bottom: 5px;\n",
              "    }\n",
              "\n",
              "    .flex_star, .flex_acc, .flex_accrank, .flex_fc ,.flex_pp, .flex_weight {\n",
              "        padding:0px;\n",
              "        margin:0px;\n",
              "        text-align:right;\n",
              "    }\n",
              "\n",
              "    .flex_acc{\n",
              "        font-size: 18px;\n",
              "    }\n",
              "\n",
              "    .flex_pp{\n",
              "        font-size: 22px;\n",
              "    }\n",
              "\n",
              "    .flex_rank {\n",
              "        padding:0px;\n",
              "        margin:0px;\n",
              "        font-size: 22px;\n",
              "    }\n",
              "\n",
              "    .flex_player{\n",
              "        font-size: 22px;\n",
              "    }\n",
              "    </style>\n",
              "    "
            ]
          },
          "metadata": {},
          "execution_count": 104
        }
      ],
      "source": [
        "#@title <h1>Input & GetData from BeatLeader</h1> { display-mode: \"form\" }\n",
        "#@markdown #### please input information\n",
        "#@markdown ---\n",
        "#@markdown <font size=\"2\">`player_id` : PlayerID for BeatLeader(=ScoreSaberID). <b>Must</b> be changed.<br/></font>  \n",
        "player_id =  76561198412839195#@param {type:\"number\"}\n",
        "\n",
        "#markdown ---\n",
        "#markdown <h4>Setting</h4>\n",
        "#markdown <font size=\"2\">`ss_plus_is_enable`: AccRank区分にSS+を使用するか。☑で使用。  </font><br /> \n",
        "ss_plus_is_enable = True #param {type:\"boolean\"}\n",
        "#markdown <font size=\"2\">`ss_plus_val`:SS+の設定値です。必要に応じて変更ください。範囲は91-99。  \n",
        "ss_plus_val = 95 #param {type:\"slider\", min:91, max:99, step:1}\n",
        "#@markdown <font size=\"2\">`score_count`:The number of scores to retrieve from the BeatLeader-Server v1 API.\n",
        "score_count = 50 #@param {type:\"integer\"}\n",
        "\n",
        "#@markdown <font size=\"2\">`sort_type`:Sort key before retrieving data</font>\n",
        "#latest = recent_range\n",
        "#markdown <font size=\"2\">`view_score_type`:The target pages to be retrieved by ScoreSaber API. `top`:`Top Scores`, `recent`:`Recent Scores`\n",
        "sort_type = \"pp\" #@param [\"date\", \"pp\", \"acc\", \"rank\", \"stars\"]\n",
        "#@markdown <font size=\"2\">`order`: Descending(`desc`) or Ascending(`asc`) order\n",
        "order = \"desc\" #@param [\"desc\", \"asc\"]\n",
        "#view_score_type = \"top\" #param [\"top\", \"recent\"]\n",
        "#['accuracy']\n",
        "#markdown ---\n",
        "#markdown <h4>Filters</h4>\n",
        "stars_from = 0 #param {type:\"slider\", min:0, max:15, step:1}\n",
        "stars_to = 15 #param {type:\"slider\", min:0, max:15, step:1}\n",
        "song_keyword_filter = \"\" #param {type:\"string\"}\n",
        "\n",
        "#@markdown ---\n",
        "\n",
        "#@markdown <h4>Option</h4>  \n",
        "\n",
        "#@markdown <font size=\"2\">`image_url_type`:URL redirected when the image is clicked.</font>\n",
        "image_url_type = \"leaderboard\" #@param [\"leaderboard\", \"replay\"]\n",
        "#@markdown <font size=\"2\">`player_visible`:Whether to include player images in tiles.</font>\n",
        "player_visible = False #@param {type:\"boolean\"}\n",
        "\n",
        "# ライブラリの取得\n",
        "#!pip install GitPython\n",
        "import warnings\n",
        "warnings.filterwarnings(\"ignore\")\n",
        "import os\n",
        "import shutil\n",
        "import pandas as pd\n",
        "from pandas import json_normalize\n",
        "import json\n",
        "from datetime import datetime, timedelta\n",
        "from dateutil import tz\n",
        "import time\n",
        "from tqdm import tqdm\n",
        "import requests\n",
        "import math\n",
        "#import git\n",
        "#import gc\n",
        "from IPython.display import HTML, Javascript,Image\n",
        "#from google.colab import drive, files\n",
        "import numpy as np\n",
        "# import matplotlib.pyplot as plt\n",
        "# import seaborn as sns\n",
        "from PIL import Image\n",
        "import copy\n",
        "\n",
        "#@title Timezone UTC->日本時間+9:00での実行日時の取得(tz_ja)\n",
        "tz_ja = pd.Timestamp(datetime.now()).tz_localize('UTC').tz_convert('Asia/Tokyo')\n",
        "#today_tz_ja = datetime_now_tz_ja.strftime(\"%Y.%m.%d\")\n",
        "#print(\"取得日時:{}\".format(tz_ja))\n",
        "\n",
        "#@title その他内部設定値-------------------------------\n",
        "# SS_plus設定値\n",
        "ss_plus = \"SS+{}\".format(ss_plus_val)\n",
        "ss_plus_rate = \"SS+{}-Rate\".format(ss_plus_val)\n",
        "# その他 colab表示など設定\n",
        "pd.options.display.precision = 2\n",
        "pd.set_option(\"display.max_rows\", None)\n",
        "pd.set_option(\"display.max_columns\", None)\n",
        "#page_count=8 #ScoreSaberの1ページあたりのページ数\n",
        "\n",
        "# 出力最大高さ\n",
        "def resize_colab_cell():\n",
        "    display(Javascript('google.colab.output.setIframeHeight(0, true, {maxHeight: 5000})'))\n",
        "\n",
        "get_ipython().events.register('pre_run_cell', resize_colab_cell)\n",
        "\n",
        "# Player Infoの記録用列 (TotalFC, RankedFCは別途結合)\n",
        "cols_info =[\n",
        "    \"Pic\"\n",
        "    ,\"name\"\n",
        "    ,\"country\"\n",
        "    ,\"pp\"\n",
        "    ,\"rank\"\n",
        "    ,\"countryRank\"\n",
        "    ,\"role\"\n",
        "    ,\"TotalScore\"\n",
        "    ,\"RankedScore\"\n",
        "    ,\"AveRankedAcc\"\n",
        "    ,\"TotalPlay\"\n",
        "    ,\"RankedPlay\"\n",
        "    ,\"ReplayWatched\"\n",
        "    ,\"ScoreDate\"\n",
        "    ,\"TotalFC\"\n",
        "    ,\"RankedFC\"\n",
        "    ,\"TotalPlayRank\"\n",
        "    ,\"TotalPlayJPRank\" \n",
        "    ,\"RankedPlayRank\"\n",
        "    ,\"RankedPlayJPRank\"\n",
        "    ,\"TotalScoreRank\" \n",
        "    ,\"TotalScoreJPRank\"\n",
        "    ,\"RankedScoreRank\"\n",
        "    ,\"RankedScoreJPRank\" \n",
        "    ,\"AveRankedAccRank\"\n",
        "    ,\"AveRankedAccJPRank\"\n",
        "]\n",
        "\n",
        "# Player Infoの表示用列 (TotalFC, RankedFCは別途結合)\n",
        "cols_info_sort =[\n",
        "    \"Pic\"\n",
        "    ,\"name\"\n",
        "    ,\"country\"\n",
        "    ,\"pp\"\n",
        "    ,\"rank\"\n",
        "    ,\"countryRank\"\n",
        "    ,\"role\"\n",
        "    ,\"TotalScore\"\n",
        "    ,\"RankedScore\"\n",
        "    ,\"AveRankedAcc\"\n",
        "    ,\"TotalPlay\"\n",
        "    ,\"RankedPlay\"\n",
        "    ,\"TotalFC\"\n",
        "    ,\"RankedFC\"\n",
        "    ,\"ReplayWatched\"\n",
        "    ,\"ScoreDateJa\"\n",
        "]\n",
        "\n",
        "# リュナンさんのScoreSaberRanking表示用列(不使用)\n",
        "cols_info_rank = [\n",
        "    \"TotalPlayRank\"\n",
        "    ,\"TotalPlayJPRank\" \n",
        "    ,\"RankedPlayRank\"\n",
        "    ,\"RankedPlayJPRank\"\n",
        "    ,\"TotalScoreRank\" \n",
        "    ,\"TotalScoreJPRank\"\n",
        "    ,\"RankedScoreRank\"\n",
        "    ,\"RankedScoreJPRank\" \n",
        "    ,\"AveRankedAccRank\"\n",
        "    ,\"AveRankedAccJPRank\"\n",
        "]\n",
        "\n",
        "# summary用列\n",
        "cols_summary =[\n",
        "    \"rank\"\n",
        "    ,\"countryRank\"\n",
        "    ,\"pp\"\n",
        "    ,\"AveRankedAcc\"\n",
        "    ,\"TotalPlay\"\n",
        "    ,\"RankedPlay\"\n",
        "]\n",
        "\n",
        "# SongList抜粋用列\n",
        "cols_song =[\n",
        "    \"Cover\"\n",
        "    ,\"Song\"\n",
        "    ,\"Level\"\n",
        "    ,\"LevelStr\"\n",
        "    ,\"Stars\"\n",
        "    # ,\"maxPP\"\n",
        "    # ,\"maxScore\"\n",
        "    ,\"Difficulty\"\n",
        "    # ,\"Play\"\n",
        "    # ,\"DailyPlay\"\n",
        "    ,\"CreatedDateJa\"\n",
        "    ,\"RankDateJa\"\n",
        "    ,\"Bombs\"\n",
        "    ,\"Notes\"\n",
        "    ,\"Obstacles\"\n",
        "    ,\"Njs\"\n",
        "    ,\"NjsOffset\"\n",
        "    ,\"Bpm\"\n",
        "    ,\"Upvotes\"\n",
        "    #,\"Downvotes\"\n",
        "    ,\"Duration\"\n",
        "    ,\"Ranked\"\n",
        "]\n",
        "\n",
        "# Rank譜面除外リスト結合用列\n",
        "cols_excluded = [\n",
        "                 'Hash',\n",
        "                 'Difficulty',\n",
        "                 'RankedExcluded'\n",
        "                 ]\n",
        "\n",
        "# Score用列\n",
        "cols_score =[\n",
        "    \"Cover\"\n",
        "    ,\"Song\"\n",
        "    ,\"Level\"\n",
        "    ,\"Stars\"\n",
        "    ,\"Acc\"\n",
        "    ,\"AccRank\"\n",
        "    ,\"FC\"\n",
        "    ,\"Rank\"\n",
        "    ,\"PP\"\n",
        "    ,\"Miss\"\n",
        "    ,\"Bad\"\n",
        "    ,\"Combo\"\n",
        "    ,\"Score\"\n",
        "    #,\"Mode\"\n",
        "    ,\"Difficulty\"\n",
        "    ,\"Play\"\n",
        "    ,\"DailyPlay\"\n",
        "    ,\"Bpm\"\n",
        "    ,\"Duration\"\n",
        "    ,\"Notes\"\n",
        "    ,'Nps'\n",
        "    ,\"Njs\"\n",
        "    ,\"Bombs\"\n",
        "    ,\"Obstacles\"\n",
        "    ,\"NjsOffset\"\n",
        "    ,'Upvotesratio' \n",
        "    ,\"Upvotes\"\n",
        "    ,\"Downvotes\"\n",
        "    ,\"Ranked\"\n",
        "    ,\"Days\"\n",
        "    ,\"Months\"\n",
        "    ,\"Tags\"\n",
        "    ,\"Preview\"\n",
        " ]\n",
        "\n",
        "# Acc再計算用列\n",
        "cols_recalq = [\n",
        "    'Hash',\n",
        "    'Cover',\n",
        "    'SongName',\n",
        "    'Difficulty', 'Stars', \n",
        "    'Ranked', \n",
        "    'Notes', \n",
        "    'Acc', \n",
        "    'AccRecalq', \n",
        "    'AccDiff',\n",
        "    'AccRank', \n",
        "    'AccRankRecalq', \n",
        "    'MaxScore',\n",
        "    'MaxScoreRecalq',\n",
        "    'MaxScoreDiff',\n",
        "    'Score', \n",
        "    'Miss', \n",
        "    'Combo',\n",
        "    'RankDateJa',\n",
        "    'CreatedDateJa', \n",
        "    'Preview'\n",
        "]\n",
        "\n",
        "# ScatterPlot用X-Y軸列\n",
        "cols_xy = [\n",
        "    \"Stars\"\n",
        "    ,\"Level\"\n",
        "    ,\"Acc\"\n",
        "    ,\"Rank\"\n",
        "    ,\"PP\"\n",
        "    ,\"Miss\"\n",
        "    ,\"Bad\"\n",
        "    ,\"Combo\"\n",
        "    ,\"Score\"\n",
        "    ,\"Play\"\n",
        "    ,\"DailyPlay\"\n",
        "    ,\"Days\"\n",
        "    ,\"Months\"\n",
        "    ,\"Bpm\"\n",
        "    ,\"Duration\"\n",
        "    ,\"Notes\"\n",
        "    ,'Nps'\n",
        "    ,\"Njs\"\n",
        "    ,\"Bombs\"\n",
        "    ,\"Obstacles\"\n",
        "    ,\"NjsOffset\"\n",
        "    ,'Upvotesratio'\n",
        "    ,\"Upvotes\"\n",
        "    ,\"Downvotes\"\n",
        "]\n",
        "\n",
        "# RankedMap(BeatSaver)結合用列\n",
        "cols_rankedmap = ['Hash', \n",
        "                  'Difficulty', \n",
        "                  'Upvotesratio',\n",
        "                  'Nps', \n",
        "                  'Tags', 'Preview'\n",
        "]\n",
        "\n",
        "# ScatterPlot用カテゴリ\n",
        "cols_cate = [\n",
        "    \"LevelStr\"\n",
        "    ,\"Days\"\n",
        "    ,\"DaysStr\"\n",
        "    ,\"Months\"\n",
        "    ,\"MonthsStr\"\n",
        "    ,\"LatestStr\"\n",
        "    ,\"Acc\"\n",
        "    ,\"AccRank\"\n",
        "    ,\"FC\"\n",
        "    ,\"SongAuthor\"\n",
        "    ,\"LevelAuthor\"\n",
        "]\n",
        "\n",
        "# Worst-Top ScatterPlot用カテゴリ\n",
        "cols_cate_wt = [\n",
        "    \"WorstTop\"\n",
        "    ,\"LevelStr\"\n",
        "    ,\"Days\"\n",
        "    ,\"DaysStr\"\n",
        "    ,\"Months\"\n",
        "    ,\"MonthsStr\"\n",
        "    ,\"LatestStr\"\n",
        "    ,\"Acc\"\n",
        "    ,\"AccRank\"\n",
        "    ,\"FC\"\n",
        "    ,\"SongAuthor\"\n",
        "    ,\"LevelAuthor\"\n",
        "]\n",
        "\n",
        "# Latest_history用の列\n",
        "cols_latest_history = ['Cover', 'Song', 'Difficulty', 'Stars', 'Acc', 'AccRank', 'FC', 'Rank', 'PP',\n",
        "       'Miss', 'Bad', 'Combo', 'Score']\n",
        "\n",
        "cover_image_size=70 #カバー,プロファイル画像のサイズ単位px\n",
        "info_image_size=150 #Player画像のサイズ単位px\n",
        "\n",
        "style_format = {\n",
        "        \"rank\": \"#{:,.0f}\",\n",
        "        \"countryRank\": \"#{:,.0f}\",\n",
        "        \"TotalScore\": \"{:,.0f}\",\n",
        "        \"RankedScore\": \"{:,.0f}\",\n",
        "        \"AveRankedAcc\": \"{:,.2f}%\",\n",
        "        \"TotalPlay\": \"{:,.0f}\",\n",
        "        \"TotalFC\": \"{:,.0f}\",\n",
        "        \"RankedFC\": \"{:,.0f}\",\n",
        "        \"ReplayWatched\": \"{:,.0f}\",\n",
        "        \"Level\": \"{:,.0f}\",\n",
        "        \"Stars\": \"{:,.2f}★\",\n",
        "        \"Acc\": \"{:,.2f}%\",\n",
        "        \"AccRecalq\": \"{:,.2f}%\",\n",
        "        \"AccDiff\": \"{:,.2f}%\",\n",
        "        \"MaxScore\": \"{:,.0f}\",\n",
        "        \"MaxScoreRecalq\": \"{:,.0f}\",\n",
        "        \"MaxScoreDiff\": \"{:,.0f}\",\n",
        "        \"Score\": \"{:,.0f}\",\n",
        "        \"Rank\": \"#{:,.0f}\",\n",
        "        \"pp\": \"{:,.2f}pp\",\n",
        "        \"PP\": \"{:,.2f}pp\",\n",
        "        \"Miss\": \"{:,.0f}\",\n",
        "        \"Bad\": \"{:,.0f}\",\n",
        "        \"Combo\": \"{:,.0f}\",\n",
        "        \"Score\": \"{:,.0f}\",\n",
        "        \"Play\": \"{:,.0f}\",\n",
        "        \"DailyPlay\": \"{:,.0f}\",\n",
        "        \"Bpm\": \"{:,.0f}\",\n",
        "        \"Duration\": \"{:,.0f}\",\n",
        "        \"Notes\": \"{:,.0f}\",\n",
        "        \"Nps\": \"{:,.2f}\",\n",
        "        \"Njs\": \"{:,.0f}\",\n",
        "        \"Bombs\": \"{:,.0f}\",\n",
        "        \"Obstacles\": \"{:,.0f}\",\n",
        "        \"NjsOffset\": \"{:,.2f}\",\n",
        "        \"Upvotesratio\": \"{:,.2f}\",\n",
        "        \"Upvotes\": \"{:,.0f}\",\n",
        "        \"Downvotes\": \"{:,.0f}\",\n",
        "        \"Days\": \"{:,.0f}\",\n",
        "        \"Months\": \"{:,.0f}\",\n",
        "        \"Song\": \"{:,.0f}\",\n",
        "        \"RecentCleared\": \"{:,.0f}\",\n",
        "        \"Cleared\": \"{:,.0f}\",\n",
        "        \"NF\": \"{:,.0f}\",\n",
        "        \"NotCleared\": \"{:,.0f}\",\n",
        "        \"AlreadyCleared\": \"{:,.0f}\",\n",
        "        \"NotClearedRate\": \"{:,.2f}%\",\n",
        "        \"AlreadyClearedRate\": \"{:,.2f}%\",\n",
        "        \"RecentClearedRate\": \"{:,.2f}%\",\n",
        "        \"NFRate\": \"{:,.2f}%\",\n",
        "        \"SSS\": \"{:,.0f}\",\n",
        "        ss_plus: \"{:,.0f}\",\n",
        "        \"SS\": \"{:,.0f}\",\n",
        "        \"S\": \"{:,.0f}\",\n",
        "        \"A\": \"{:,.0f}\",\n",
        "        \"B\": \"{:,.0f}\",\n",
        "        \"Other\": \"{:,.0f}\",\n",
        "        \"SSS-Rate\": \"{:,.2f}%\",\n",
        "        \"SS-Rate\": \"{:,.2f}%\",\n",
        "        ss_plus_rate: \"{:,.2f}%\",\n",
        "        \"S-Rate\": \"{:,.2f}%\",\n",
        "        \"A-Rate\": \"{:,.2f}%\",\n",
        "        \"B-Rate\": \"{:,.2f}%\",\n",
        "        \"Other-Rate\": \"{:,.2f}%\",\n",
        "        \"FC\": \"{:,.0f}\",\n",
        "        \"RecentFC\": \"{:,.0f}\",\n",
        "        \"AlreadyFC\": \"{:,.0f}\",\n",
        "        \"NotFC\": \"{:,.0f}\",\n",
        "        \"AlreadyFCRate\": \"{:,.2f}%\",\n",
        "        \"RecentFCRate\": \"{:,.2f}%\",\n",
        "        \"NotFCRate\": \"{:,.2f}%\",\n",
        "        \"Song\": \"{:,.0f}\",\n",
        "        \"TotalPlayRank\": \"#{:,.0f}\",\n",
        "        \"TotalPlayJPRank\": \"#{:,.0f}\",\n",
        "        \"RankedPlayRank\": \"#{:,.0f}\",\n",
        "        \"RankedPlayJPRank\": \"#{:,.0f}\",\n",
        "        \"TotalScoreRank\": \"#{:,.0f}\",\n",
        "        \"TotalScoreJPRank\": \"#{:,.0f}\",\n",
        "        \"RankedScoreRank\": \"#{:,.0f}\",\n",
        "        \"RankedScoreJPRank\": \"#{:,.0f}\",\n",
        "        \"AveRankedAccRank\": \"#{:,.0f}\",\n",
        "        \"AveRankedAccJPRank\": \"#{:,.0f}\",\n",
        "     }\n",
        "\n",
        "ss_plus = \"SS+{}\".format(ss_plus_val)\n",
        "ss_plus_rate = \"SS+{}-Rate\".format(ss_plus_val)\n",
        "\n",
        "style_worst_top = {\n",
        "        \"Level\": \"{:,.0f}\",\n",
        "        \"Stars\": \"{:,.2f}★\",\n",
        "        \"Acc\": \"{:,.2f}%\",\n",
        "        \"Rank\": \"#{:,.0f}\",\n",
        "        \"pp\": \"{:,.2f}pp\",\n",
        "        \"PP\": \"{:,.2f}pp\",\n",
        "        \"Miss\": \"{:,.0f}\",\n",
        "        \"Bad\": \"{:,.0f}\",\n",
        "        \"Combo\": \"{:,.0f}\",\n",
        "        \"Score\": \"{:,.0f}\",\n",
        "        \"Play\": \"{:,.0f}\",\n",
        "        \"DailyPlay\": \"{:,.0f}\",\n",
        "        \"Bpm\": \"{:,.0f}\",\n",
        "        \"Duration\": \"{:,.0f}\",\n",
        "        \"Notes\": \"{:,.0f}\",\n",
        "        \"Nps\": \"{:,.2f}\",\n",
        "        \"Njs\": \"{:,.0f}\",\n",
        "        \"Bombs\": \"{:,.0f}\",\n",
        "        \"Obstacles\": \"{:,.0f}\",\n",
        "        \"NjsOffset\": \"{:,.2f}\",\n",
        "        \"Upvotesratio\": \"{:,.2f}\",\n",
        "        \"Upvotes\": \"{:,.0f}\",\n",
        "        \"Downvotes\": \"{:,.0f}\",\n",
        "        \"Days\": \"{:,.0f}\",\n",
        "        \"Months\": \"{:,.0f}\",\n",
        "     }\n",
        "\n",
        "def color_negative_red(val):\n",
        "    color = 'red' if val < 0 else 'blue'\n",
        "    return 'color: %s' % color\n",
        "\n",
        "# Difficulty color\n",
        "def color_difficulty(val):\n",
        "    if val == \"Easy\":\n",
        "        return 'color: #66BB6A; font-weight: bold;'\n",
        "        color = \"#66BB6A\"\n",
        "    elif val == \"Normal\":\n",
        "        return 'color: #29B6F6; font-weight: bold;'\n",
        "        color = \"#29B6F6\"\n",
        "    elif val == \"Hard\":\n",
        "        return 'color: #FB8C00; font-weight: bold;'\n",
        "        color = \"#FB8C00\"\n",
        "    elif val == \"Expert\":\n",
        "        return 'color: #E53935; font-weight: bold;'\n",
        "        color = \"#E53935\"\n",
        "    elif val == \"Expert+\":\n",
        "        return 'color: #8E24AA; font-weight: bold;'\n",
        "        color = \"#8E24AA\"\n",
        "    elif val == \"ExpertPlus\":\n",
        "        return 'color: #8E24AA; font-weight: bold;'\n",
        "        color = \"#8E24AA\"\n",
        "    return 'color: %s' % color\n",
        "\n",
        "# Acc Rank color\n",
        "def color_acc_rank(val):\n",
        "    if val == \"SSS\":\n",
        "        return 'color: #00ffff; font-weight: bold;'\n",
        "    elif ss_plus_is_enable and val == ss_plus:\n",
        "        return 'color: #636EFA; font-weight: bold;'\n",
        "    elif val == \"SS\":\n",
        "        return 'color: #ff4500; font-weight: bold;'\n",
        "    elif val == \"S\":\n",
        "        return 'color: #ffaaff; font-weight: bold;'\n",
        "    elif val == \"A\":\n",
        "        return 'color: #ffcc66; font-weight: bold;'\n",
        "        #color = \"#eebb55\"\n",
        "    elif val == \"B\":\n",
        "        return 'color: #cccc66; font-weight: bold;'\n",
        "    else:\n",
        "        return 'color: #666666; font-weight: bold;'\n",
        "    # return 'color: %s' % color\n",
        "\n",
        "# FC color\n",
        "def color_fc(val):\n",
        "    if val == \"FC\":\n",
        "        color = \"#23D160\"\n",
        "    else:\n",
        "        color = \"black\"        \n",
        "    return 'color: %s' % color\n",
        "\n",
        "def color_fc(val):\n",
        "    if val == \"FC\":\n",
        "        return 'color: #23D160; font-weight: bold;'\n",
        "    else:\n",
        "        return 'color: black'\n",
        "\n",
        "\n",
        "# Player Info Table Format\n",
        "styles_info = [\n",
        "    dict(selector=\"td\", props=[(\"font-size\", \"130%\"),\n",
        "                               (\"text-align\", \"center\"),\n",
        "                               (\"padding-top\", \"0px\"),\n",
        "                               (\"padding-bottom\", \"0px\"),                              \n",
        "                               ])\n",
        "]\n",
        "\n",
        "# Player Info Table Format\n",
        "styles_data = [\n",
        "    {\"selector\":\"td\", \"props\":[(\"padding-top\", \"0px\"),\n",
        "                               (\"padding-bottom\", \"0px\"),                              \n",
        "                               ]},\n",
        "    {\"selector\":\"th\", \"props\":[(\"padding-top\", \"0px\"),\n",
        "                               (\"padding-bottom\", \"0px\"),                              \n",
        "                               ]},\n",
        "]\n",
        "\n",
        "#SS+95\tSS+95-Rate FC\n",
        "def func_unrank(x):\n",
        "    if x == 0:\n",
        "        return None\n",
        "    else:\n",
        "        return x\n",
        "\n",
        "def func_song_table(x):\n",
        "    return \"<b>\" + x.replace(\"/\",\"</b><br />\").replace(\"[\",\"<br />[\")\n",
        "\n",
        "def func_diff(x):\n",
        "    if x == \"ExpertPlus\":\n",
        "        return \"Expert+\"\n",
        "    else:\n",
        "        return x\n",
        "\n",
        "def font_bold(x):\n",
        "    return \"font-weight: bold;\"\n",
        "\n",
        "\n",
        "def func_mode(x):\n",
        "    if  x == \"SoloStandard\":\n",
        "        return \"Standard\"\n",
        "    else:\n",
        "        return x\n",
        "\n",
        "def func_score(x):\n",
        "    if  x > 100:\n",
        "        return \"-\"\n",
        "    elif  x == 100:\n",
        "        return \"SSS\"\n",
        "    elif x >= ss_plus_val and ss_plus_is_enable:\n",
        "        return ss_plus\n",
        "    elif x >= 90:\n",
        "        return \"SS\"\n",
        "    elif x >= 80:\n",
        "        return \"S\"\n",
        "    elif x >= 65:\n",
        "        return \"A\"\n",
        "    elif x >= 50:\n",
        "        return \"B\"\n",
        "    elif x >= 35:\n",
        "        return \"C\"\n",
        "    elif x >= 20:\n",
        "        return \"D\"\n",
        "    elif x >= 0:\n",
        "        return \"E\"\n",
        "    else:\n",
        "        return \"-\"\n",
        "\n",
        "def func_fc(x):\n",
        "    if  x:\n",
        "        return \"FC\"\n",
        "    else:\n",
        "        return \"-\"\n",
        "\n",
        "# function\n",
        "def str_difficulty(val):\n",
        "    if val == \"Easy\":\n",
        "        return 'E'\n",
        "    elif val == \"Normal\":\n",
        "        return 'N'\n",
        "    elif val == \"Hard\":\n",
        "        return 'H'\n",
        "    elif val == \"Expert\":\n",
        "        return 'Ex'\n",
        "    elif val == \"Expert+\":\n",
        "        return 'Ex+'\n",
        "    elif val == \"ExpertPlus\":\n",
        "        return 'Ex+'\n",
        "    return '-'\n",
        "\n",
        "def str_fc(val):\n",
        "    if val == \"FC\":\n",
        "        return 'FC'\n",
        "    else:\n",
        "        return ''\n",
        "\n",
        "# FC color\n",
        "def color_fc(val):\n",
        "    if val == \"FC\":\n",
        "        color = \"#23D160\"\n",
        "    else:\n",
        "        color = \"black\"        \n",
        "    return 'color: %s' % color\n",
        "\n",
        "# pp color\n",
        "def color_pp(val, target_pp):\n",
        "    if val >= target_pp:\n",
        "        color = \"red\"\n",
        "    else:\n",
        "        color = \"black\"        \n",
        "    return 'color: %s' % color\n",
        "\n",
        "\n",
        "# pp color\n",
        "def color_pp(x):\n",
        "    if  x >= 600: # SSS\n",
        "        color = \"#00ffff\"\n",
        "    elif x >= 500: # SS+\n",
        "        color = \"#636EFA\"\n",
        "    elif x >= 400: # SS\n",
        "        color = \"#ff4500\"\n",
        "    elif x >= 300: # S\n",
        "        color = \"#ffaaff\"\n",
        "    elif x >= 250: # A\n",
        "        color = \"#ffcc66\"\n",
        "    elif x >= 200: # B\n",
        "        color = \"#cccc66\"\n",
        "    else:\n",
        "        color = \"black\"        \n",
        "    return 'color: %s' % color\n",
        "\n",
        "\n",
        "#def color_player_rank(x):\n",
        "def color_rank(x):\n",
        "    if  x <= 10: # Top10\n",
        "        color = \"#00ffff\"\n",
        "    elif x <= 50: # 1ページ目\n",
        "        color = \"#636EFA\"\n",
        "    elif x <= 100: # 2ページ目\n",
        "        color = \"#ff4500\"\n",
        "    elif x <= 500:\n",
        "        color = \"#ffaaff\"\n",
        "    elif x <= 1000:\n",
        "        color = \"#ffcc66\"\n",
        "    elif x <= 3000:\n",
        "        color = \"#cccc66\"\n",
        "    elif x <= 5000:\n",
        "        color = \"#cccc66\"\n",
        "    elif x <= 10000:\n",
        "        color = \"#666666\"\n",
        "    else:\n",
        "        color = \"black\"        \n",
        "    return 'color: %s' % color\n",
        "\n",
        "# weight\n",
        "def format_weight(val):\n",
        "    if val <= target_weight:\n",
        "        return \"\".format(val)\n",
        "    else:\n",
        "        return \"({:.1f}pp)\".format(val)\n",
        "\n",
        "# star\n",
        "def format_star(val):\n",
        "    if val > 0:\n",
        "        return \"{:.2f}★\".format(val)\n",
        "    else:\n",
        "        return \"\"\n",
        "    return \"{:.2f}★\".format(val)        \n",
        "\n",
        "# acc\n",
        "def format_acc(val):\n",
        "    if val == 0:\n",
        "        return \"\"\n",
        "    elif val <= 100:\n",
        "        return \"{:.2f}%\".format(val)\n",
        "    else:\n",
        "        return \"\"\n",
        "    return \"{:.2f}%\".format(val)\n",
        "\n",
        "# pp\n",
        "def format_pp(val):\n",
        "    if val > 0:\n",
        "        return \"{:.1f}pp\".format(val)\n",
        "    else:\n",
        "        return \"\"\n",
        "    return \"{:.1f}pp\".format(val)\n",
        "\n",
        "def format_ranked(x):\n",
        "    if x > 0:\n",
        "        return True\n",
        "    else:\n",
        "        return False\n",
        "\n",
        "\n",
        "# Score情報の取得 ---------------------------------------\n",
        "#url = \"https://api.beatleader.xyz/player/{}/scores?sortBy={}&order=desc&page=1&count={}\".format(player_id, sort_type, score_count)\n",
        "url = 'https://api.beatleader.xyz/player/{}/scores?sortBy={}&order={}&page=1&count={}&search={}&stars_from={}&stars_to={}'.format(player_id, sort_type, order, score_count, song_keyword_filter, stars_from, stars_to)\n",
        "\n",
        "#stars_from\n",
        "response = requests.get(url)\n",
        "res_data = response.json()\n",
        "df_scores = json_normalize(res_data['data'])\n",
        "\n",
        "if len(df_scores) > 0:\n",
        "\n",
        "    df_scores['Song'] = df_scores['leaderboard.song.name'] + \" \" + df_scores['leaderboard.song.subName'] + \" / \" + df_scores['leaderboard.song.author'] + \" [\" + df_scores['leaderboard.song.mapper'] + \"]\"\n",
        "    df_scores['SongName'] = df_scores['leaderboard.song.name']\n",
        "    df_scores['SongSub'] = df_scores['leaderboard.song.subName']\n",
        "    df_scores['SongAuthor'] = df_scores['leaderboard.song.author']\n",
        "    df_scores['LevelAuthor'] = df_scores['leaderboard.song.mapper']\n",
        "    df_scores['Hash'] = df_scores['leaderboard.song.hash'].str.upper()\n",
        "    df_scores['Acc'] = df_scores['accuracy'] * 100 # / df_scores['leaderboard.difficulty.maxScore'] * 100\n",
        "    df_scores['MaxScore'] = df_scores['leaderboard.difficulty.maxScore']\n",
        "\n",
        "    df_scores['Mode'] = df_scores['leaderboard.difficulty.modeName']#.apply(func_mode)\n",
        "    df_scores['Difficulty'] = df_scores['leaderboard.difficulty.difficultyName']\n",
        "    df_scores['Stars'] = df_scores['leaderboard.difficulty.stars']\n",
        "    df_scores['Score'] = df_scores['modifiedScore']\n",
        "    df_scores['Bad'] = df_scores['badCuts']\n",
        "    df_scores['Miss'] = df_scores['missedNotes']\n",
        "    df_scores['PP'] = df_scores['pp']\n",
        "    df_scores['PPWeight'] = df_scores['bonusPp']# * df_scores['score.weight']\n",
        "    df_scores['Rank'] = df_scores['rank']\n",
        "    df_scores['Modifiers'] = df_scores['modifiers']\n",
        "    df_scores['ReplayUrl'] = \"https://replay.beatleader.xyz/?scoreId=\" + df_scores['id'].astype('str')\n",
        "    df_scores['LeaderboardUrl'] = \"https://www.beatleader.xyz/leaderboard/global/\" + df_scores['leaderboardId'].astype('str')\n",
        "\n",
        "    df_scores['Ranked'] = df_scores['Stars'].apply(format_ranked)\n",
        "\n",
        "    df_scores['AccRank'] = df_scores['Acc'].apply(func_score)\n",
        "    #\"https://eu.cdn.beatsaver.com/56617c820776ae2ded07909464cbf1fefa00375e.jpg\"\n",
        "    df_scores['Cover'] = '<img src=\"'+df_scores['leaderboard.song.coverImage']+'\" style=\"width:{}px;\"/>'.format(cover_image_size)\n",
        "    df_scores['CoverUrl'] = df_scores['leaderboard.song.coverImage']\n",
        "\n",
        "    df_scores['FC'] = df_scores['fullCombo'].apply(func_fc)\n",
        "\n",
        "    df_scores = df_scores[[x for x in df_scores.columns if not x.startswith(\"scoreImprovement.\")]]\n",
        "    df_scores = df_scores[[x for x in df_scores.columns if not x.startswith(\"leaderboard.\")]]\n",
        "\n",
        "    # 改行コード等の除去\n",
        "    for col in df_scores.columns:\n",
        "        try:\n",
        "            if len(df_scores[df_scores[col].str.contains(\"\\n\")][[col]]) == 0:\n",
        "                continue\n",
        "            else:\n",
        "                df_scores[col] = df_scores[col].str.replace(\"\\n\",\"\")\n",
        "        except:\n",
        "            continue\n",
        "\n",
        "    for col in df_scores.columns:\n",
        "        try:\n",
        "            if len(df_scores[df_scores[col].str.contains(\"\\r\")][[col]]) == 0:\n",
        "                continue\n",
        "            else:\n",
        "                df_scores[col] = df_scores[col].str.replace(\"\\r\",\"\")\n",
        "        except:\n",
        "            continue\n",
        "\n",
        "\n",
        "#@title Player情報の取得--------------------------------------------------\n",
        "#url = r\"https://scoresaber.com/api/player/{}/full\".format(player_id)\n",
        "url = r\"https://api.beatleader.xyz/player/{}?stats=true\".format(player_id)\n",
        "response = requests.get(url)\n",
        "res_data = response.json()\n",
        "df_info = json_normalize(res_data)\n",
        "\n",
        "df_info[\"Pic\"] = '<img src=\"'+df_info[\"avatar\"]+'\" style=\"width:{}px;\"/>'.format(info_image_size)\n",
        "df_info[\"TotalPlayCount\"] = df_info[\"scoreStats.totalPlayCount\"]\n",
        "df_info[\"RankedPlayCount\"] = df_info[\"scoreStats.rankedPlayCount\"]\n",
        "df_info[\"AverageRankedAcc\"] = df_info[\"scoreStats.averageRankedAccuracy\"]\n",
        "df_info['AverageRankedAccRank'] = func_score(df_info[\"AverageRankedAcc\"][0]*100)\n",
        "\n",
        "\n",
        "# str_player_info = \"\"\"\n",
        "# -----------[Information]-----------\n",
        "#  Player          : {}[{}]\n",
        "#  pp              : {:,.2f}pp\n",
        "#  AveRankedc      : {:,.2f}%\n",
        "#  rank            : #{:,.0f}[{}#{:,.0f}]\n",
        "#  TotalPlayCount  : {:,.0f}\n",
        "#  RankedPlayCount : {:,.0f}\n",
        "#  ({} results retrieved)\n",
        "# ------------------------------------\n",
        "# \"\"\".format(df_info[\"name\"][0], df_info[\"country\"][0],\n",
        "#            df_info[\"pp\"][0], \n",
        "#            df_info[\"AverageRankedAcc\"][0]*100, \n",
        "#            df_info[\"rank\"][0], df_info[\"country\"][0], df_info[\"countryRank\"][0], \n",
        "#            df_info[\"TotalPlayCount\"][0], \n",
        "#            df_info[\"RankedPlayCount\"][0],\n",
        "#            len(df_scores))\n",
        "\n",
        "str_player_info = \"\"\"\n",
        "{} results retrieved\n",
        "\"\"\".format(len(df_scores))\n",
        "\n",
        "print(str_player_info)\n",
        "\n",
        "def color_player_pp(x):\n",
        "    if  x >= 16000:\n",
        "        color = \"#00ffff\"\n",
        "    elif x >= 14000:\n",
        "        color = \"#636EFA\"\n",
        "    elif x >= 12000:\n",
        "        color = \"#ff4500\"\n",
        "    elif x >= 10000:\n",
        "        color = \"#ffaaff\"\n",
        "    elif x >= 8000:\n",
        "        color = \"#ffcc66\"\n",
        "    elif x >= 6000:\n",
        "        color = \"#cccc66\"\n",
        "    elif x >= 4000:\n",
        "        color = \"#666666\"\n",
        "    # elif x >= 2000:\n",
        "    #     color = \"#994400\"\n",
        "    else:\n",
        "        color = \"black\"        \n",
        "    return 'color: %s' % color\n",
        "\n",
        "def func_player(_cover_image_size):\n",
        "    div_img = \"<a href='https://www.beatleader.xyz/u/{}' target='_blank'><img src='{}' style='width:{}px;height:{}px'/></a>\".format(player_id, df_info[\"avatar\"][0],_cover_image_size, _cover_image_size)\n",
        "    \n",
        "    div_name = \"<div class='flex_player'>{}</div>\".format(df_info[\"name\"][0])\n",
        "\n",
        "    div_playcount = \"<div class='flex_song'>TotalPlayCount:{:.0f}</div>\".format(df_info[\"TotalPlayCount\"][0])\n",
        "    div_rankedplaycount = \"<div class='flex_song'>RankedPlayCount:{:.0f}</div>\".format(df_info[\"RankedPlayCount\"][0])\n",
        "    div_playcount = \"<div class='flex_song'>RankedPlay:{:.0f}(Total:{:.0f})</div>\".format(df_info[\"RankedPlayCount\"][0],df_info[\"TotalPlayCount\"][0])\n",
        "\n",
        "    span_acc = \"<span class='flex_acc' style='{}'>{}</span>\".format(color_acc_rank(df_info['AverageRankedAccRank'][0]), format_acc(df_info[\"AverageRankedAcc\"][0]*100))\n",
        "    div_acc = \"<div>{}</div>\".format(span_acc)\n",
        "\n",
        "    span_pp = \"<span class='flex_pp' style='{}'>{}</span>\".format(color_player_pp(df_info[\"pp\"][0]),(format_pp(df_info[\"pp\"][0])))\n",
        "    div_pp = \"<div>{}</div>\".format(span_pp)\n",
        "    div_country_rank = \"<div class='flex_rank' style='{}'>#{:,.0f}[{}]</div>\".format(color_player_rank(df_info[\"countryRank\"][0]), df_info[\"countryRank\"][0], df_info[\"country\"][0])\n",
        "    div_rank = \"<div class='flex_rank' style='{}'>#{:,.0f}</div>\".format(color_player_rank(df_info[\"rank\"][0]), df_info[\"rank\"][0])\n",
        "\n",
        "\n",
        "    return \"\"\"\n",
        "            <div class='flex_item'>{}<br/>\n",
        "                <div class='flex_str_top'>\n",
        "                    {}\n",
        "                    {}\n",
        "                </div>\n",
        "                <div class='flex_str_bottom_left'>\n",
        "                    {}\n",
        "                    {}\n",
        "                </div>\n",
        "                <div class='flex_str_bottom_right'>\n",
        "                    {}\n",
        "                    {}\n",
        "                </div>\n",
        "            </div>\n",
        "            \"\"\".format(div_img, div_name, div_playcount, div_acc, div_pp, div_country_rank, div_rank)\n",
        "\n",
        "img_css_player = \"\"\"\n",
        "    <style>\n",
        "    .flex_item {\n",
        "        display: inline-block;\n",
        "        position: relative;\n",
        "        padding:0px 5px 0px 0px;\n",
        "        margin:0px;\n",
        "    }\n",
        "    .flex_str_top, .flex_str_bottom_left, .flex_str_bottom_right{\n",
        "        position: absolute;\n",
        "        font-weight: bold;\n",
        "        white-space:nowrap;\n",
        "        overflow:hidden;\n",
        "        color: #000;\n",
        "        width:\"\"\" + str(200-10) + \"\"\"px;\n",
        "        text-shadow:1px 1px 0 #FFF, -1px -1px 0 #FFF,\n",
        "                -1px 1px 0 #FFF, 1px -1px 0 #FFF,\n",
        "                0px 1px 0 #FFF,  0-1px 0 #FFF,\n",
        "                -1px 0 0 #FFF, 1px 0 0 #FFF;\n",
        "    }\n",
        "\n",
        "    .flex_str_top {\n",
        "        left: 5px;\n",
        "        top: 5px;\n",
        "    }\n",
        "\n",
        "    .flex_str_bottom_left {\n",
        "        text-align:right;\n",
        "        left: 5px;\n",
        "        bottom: 5px;\n",
        "    }\n",
        "\n",
        "    .flex_str_bottom_right {\n",
        "        left: 5px;\n",
        "        bottom: 5px;\n",
        "    }\n",
        "\n",
        "    .flex_star, .flex_acc, .flex_accrank, .flex_fc ,.flex_pp, .flex_weight {\n",
        "        padding:0px;\n",
        "        margin:0px;\n",
        "        text-align:right;\n",
        "    }\n",
        "\n",
        "    .flex_acc{\n",
        "        font-size: \"\"\" + str(18) + \"\"\"px;\n",
        "    }\n",
        "\n",
        "    .flex_pp{\n",
        "        font-size: \"\"\" + str(22) + \"\"\"px;\n",
        "    }\n",
        "\n",
        "    .flex_rank {\n",
        "        padding:0px;\n",
        "        margin:0px;\n",
        "        font-size: \"\"\" + str(22) + \"\"\"px;\n",
        "    }\n",
        "\n",
        "    .flex_player{\n",
        "        font-size: \"\"\" + str(22) + \"\"\"px;\n",
        "    }\n",
        "    </style>\n",
        "    \"\"\"\n",
        "\n",
        "\n",
        "player_img = func_player(200) + img_css_player\n",
        "HTML(player_img)"
      ],
      "id": "Zgpr4DqIzPth"
    },
    {
      "cell_type": "markdown",
      "source": [
        "# History Tile"
      ],
      "metadata": {
        "id": "tANAweVcwQZQ"
      },
      "id": "tANAweVcwQZQ"
    },
    {
      "cell_type": "code",
      "source": [
        "#@title ## History Tile\n",
        "\n",
        "#markdown ---\n",
        "#markdown <h4>Enable</h4>\n",
        "\n",
        "history_tile_is_enable = True #param {type:\"boolean\"}\n",
        "\n",
        "#@markdown ---\n",
        "#@markdown <h4>Setting</h4>\n",
        "\n",
        "data_max_size = 500 #param {type:\"slider\", min:0, max:5000, step:1}\n",
        "\n",
        "#markdown <b>Target Setting</b>\n",
        "# #markdown <font size=2> : Target value. Highlight or filter.</font>\n",
        "# target_global_rank = 50 #@param {type:\"slider\", min:0, max:5000, step:1}\n",
        "# target_pp = 270 #@param {type:\"slider\", min:0, max:600, step:10}\n",
        "# target_weight = 1 #@param {type:\"slider\", min:0, max:600, step:1}\n",
        "\n",
        "#@markdown <b>image setting</b>\n",
        "\n",
        "#@markdown <font size=2> `width` : The width of the frame in px. Set to match (slightly larger than) the size of the image.\n",
        "width = 1000 #@param {type:\"slider\", min:200, max:4000, step:100}\n",
        "#@markdown <font size=2> `cover_image_size` : Width and height in px per image.\n",
        "cover_image_size = 200 #@param {type:\"slider\", min:50, max:1000, step:50}\n",
        "\n",
        "#@markdown <b>font size setting</b>\n",
        "#@markdown <font size=2> : The setting of each font size.</font>\n",
        "song_font_size = 22 #@param {type:\"slider\", min:3, max:50, step:1}\n",
        "star_font_size = 18 #@param {type:\"slider\", min:3, max:50, step:1}\n",
        "diff_font_size = 18 #@param {type:\"slider\", min:3, max:50, step:1}\n",
        "acc_font_size = 18 #@param {type:\"slider\", min:3, max:50, step:1}\n",
        "fc_font_size = 18 #@param {type:\"slider\", min:3, max:50, step:1}\n",
        "pp_font_size = 22 #@param {type:\"slider\", min:3, max:50, step:1}\n",
        "weight_font_size = 14 #@param {type:\"slider\", min:3, max:50, step:1}\n",
        "rank_font_size = 22 #@param {type:\"slider\", min:3, max:50, step:1}\n",
        "player_font_size = 22 #@param {type:\"slider\", min:3, max:50, step:1}\n",
        "\n",
        "#@markdown <b>Visible Setting</b>\n",
        "#@markdown <font size=2> : The setting of show/hide each item.</font>\n",
        "\n",
        "song_visible = True #@param {type:\"boolean\"}\n",
        "star_visible = True #@param {type:\"boolean\"}\n",
        "diff_visible = True #@param {type:\"boolean\"}\n",
        "acc_visible = True #@param {type:\"boolean\"}\n",
        "fc_visible = True #@param {type:\"boolean\"}\n",
        "pp_visible = True #@param {type:\"boolean\"}\n",
        "weight_visible = True #@param {type:\"boolean\"}\n",
        "rank_visible = True #@param {type:\"boolean\"}\n",
        "\n",
        "#@markdown ---\n",
        "#@markdown <h4>Filters</h4>\n",
        "#@markdown <font size=2> Each filter function. Keyword filters do not support multiple keywords.</font>\n",
        "# filtered_stars_min = 0 #@param {type:\"slider\", min:0, max:15, step:1}\n",
        "# filtered_stars_max = 15 #@param {type:\"slider\", min:0, max:15, step:1}\n",
        "filtered_pp_min = 0 #@param {type:\"slider\", min:0, max:1000, step:10}\n",
        "filtered_pp_max = 1000 #@param {type:\"slider\", min:0, max:1000, step:10}\n",
        "filtered_acc_min = 0 #@param {type:\"slider\", min:0, max:100, step:1}\n",
        "filtered_acc_max = 100 #@param {type:\"slider\", min:0, max:100, step:1}\n",
        "filtered_ranked_is_enable = False #@param {type:\"boolean\"}\n",
        "filtered_fullcombo_is_enable = False #@param {type:\"boolean\"}\n",
        "\n",
        "# #markdown ---\n",
        "# #markdown <h4>Sort</h4>\n",
        "# #markdown <font size=2> Sort is in descending order by the following four types. PP, DateJa(Date), Acc, Stars</font>\n",
        "# sort_key = \"DateJa\" #@param [\"PP\", \"DateJa\", \"Acc\", \"Stars\"]\n",
        "\n",
        "def func_flex(x):\n",
        "    div_song = \"<div class='flex_song'>{}</div>\".format(x[1]) if song_visible else \"\"\n",
        "    span_star = \"<span class='flex_star'>{}</span>\".format(format_star(x[2])) if star_visible else \"\"\n",
        "    span_diff = \"<span= class='flex_diff'>{}</span>\".format(str_difficulty(x[6])) if diff_visible else \"\"\n",
        "    #div_star_diff = \"<div style='{}'>{} {}</div>\".format(color_difficulty(x[6]), span_star, span_diff)\n",
        "    div_star_diff = \"<div style='{}'>{} {}</div>\".format(color_difficulty(x[6]), span_diff, span_star)\n",
        "\n",
        "    span_acc = \"<span class='flex_acc' style='{}'>{}</span>\".format(color_acc_rank(x[4]), format_acc(x[3])) if acc_visible else \"\"\n",
        "    span_fc = \"<span class='flex_fc' style='{}'>{}</span>\".format(color_fc(x[5]),str_fc(x[5])) if fc_visible else \"\"\n",
        "    #div_acc_fc = \"<div>{} {}</div>\".format(span_acc, span_fc)\n",
        "    div_acc_fc = \"<div>{} {}</div>\".format(span_fc, span_acc)\n",
        "    \n",
        "    span_pp = \"<span class='flex_pp' style='{}'>{}</span>\".format(color_pp(x[7]), format_pp(x[7])) if pp_visible else \"\"\n",
        "    span_weight = \"<span class='flex_weight' style='{}'>{}</span>\".format(color_pp(x[8]), format_weight(x[8])) if weight_visible else \"\"\n",
        "    div_pp_weight = \"<div>{} {}</div>\".format(span_pp, span_weight)\n",
        "\n",
        "    div_rank = \"<div class='flex_rank' style='{}'>#{:,.0f}</div>\".format(color_rank(x[9]), x[9]) if rank_visible else \"\"\n",
        "\n",
        "    span_diff_unrank = \"<span= class='flex_star' style='{}'>{}</span>\".format(color_difficulty(x[6]), str_difficulty(x[6])) if diff_visible else \"\"\n",
        "    div_diff_fc = \"<div style='{}'>{} {}</div>\".format(color_difficulty(x[6]), span_diff, span_fc)\n",
        "\n",
        "    ranked = x[10]\n",
        "    ranked = True\n",
        "    if ranked:\n",
        "        return \"\"\"\n",
        "                <div class='flex_item'>{}<br/>\n",
        "                    <div class='flex_str_top'>\n",
        "                        {}\n",
        "                    </div>\n",
        "                    <div class='flex_str_bottom_left'>\n",
        "                        {}\n",
        "                        {}\n",
        "                        {}\n",
        "                    </div>\n",
        "                    <div class='flex_str_bottom_right'>\n",
        "                        {}\n",
        "                    </div>\n",
        "                </div>\n",
        "                \"\"\".format(x[0], div_song, div_star_diff, div_acc_fc, div_pp_weight, div_rank)\n",
        "\n",
        "    else :\n",
        "        return \"\"\"\n",
        "                <div class='flex_item'>{}<br/>\n",
        "                    <div class='flex_str_top'>\n",
        "                        {}\n",
        "                    </div>\n",
        "                    <div class='flex_str_bottom_left'>\n",
        "                        {}\n",
        "                    </div>\n",
        "                    <div class='flex_str_bottom_right'>\n",
        "                        {}\n",
        "                    </div>\n",
        "\n",
        "                </div>\n",
        "                \"\"\".format(x[0], div_song, div_diff_fc, div_rank)\n",
        "\n",
        "\n",
        "\n",
        "\n",
        "def func_player():\n",
        "    div_img = \"<a href='https://www.beatleader.xyz/u/{}' target='_blank'><img src='{}' style='width:{}px;height:{}px'/></a>\".format(player_id, df_info[\"avatar\"][0],cover_image_size,cover_image_size)\n",
        "    \n",
        "    div_name = \"<div class='flex_player'>{}</div>\".format(df_info[\"name\"][0])\n",
        "\n",
        "    div_playcount = \"<div class='flex_song'>TotalPlayCount:{:.0f}</div>\".format(df_info[\"TotalPlayCount\"][0])\n",
        "    div_rankedplaycount = \"<div class='flex_song'>RankedPlayCount:{:.0f}</div>\".format(df_info[\"RankedPlayCount\"][0])\n",
        "    div_playcount = \"<div class='flex_song'>RankedPlay:{:.0f}(Total:{:.0f})</div>\".format(df_info[\"RankedPlayCount\"][0],df_info[\"TotalPlayCount\"][0])\n",
        "\n",
        "    span_acc = \"<span class='flex_acc' style='{}'>{}</span>\".format(color_acc_rank(df_info['AverageRankedAccRank'][0]), format_acc(df_info[\"AverageRankedAcc\"][0]*100))\n",
        "    div_acc = \"<div>{}</div>\".format(span_acc)\n",
        "\n",
        "    span_pp = \"<span class='flex_pp' style='{}'>{}</span>\".format(color_player_pp(df_info[\"pp\"][0]), format_pp(df_info[\"pp\"][0]))\n",
        "    div_pp = \"<div>{}</div>\".format(span_pp)\n",
        "    div_country_rank = \"<div class='flex_rank' style='{}'>#{:,.0f}[{}]</div>\".format(color_player_rank(df_info[\"countryRank\"][0]), df_info[\"countryRank\"][0], df_info[\"country\"][0])\n",
        "    div_rank = \"<div class='flex_rank' style='{}'>#{:,.0f}</div>\".format(color_player_rank(df_info[\"rank\"][0]), df_info[\"rank\"][0])\n",
        "\n",
        "\n",
        "    return \"\"\"\n",
        "            <div class='flex_item'>{}<br/>\n",
        "                <div class='flex_str_top'>\n",
        "                    {}\n",
        "                    {}\n",
        "                </div>\n",
        "                <div class='flex_str_bottom_left'>\n",
        "                    {}\n",
        "                    {}\n",
        "                </div>\n",
        "                <div class='flex_str_bottom_right'>\n",
        "                    {}\n",
        "                    {}\n",
        "                </div>\n",
        "            </div>\n",
        "            \"\"\".format(div_img, div_name, div_playcount, div_acc, div_pp, div_country_rank, div_rank)\n",
        "            \n",
        "\n",
        "if len(df_scores) > 0:\n",
        "\n",
        "    df_history = df_scores[(1==1)\n",
        "        #& (df_scores[\"Modifiers\"] != \"NF\")\n",
        "        & (df_scores[\"PP\"] >= filtered_pp_min)\n",
        "        & (df_scores[\"PP\"] <= filtered_pp_max)\n",
        "        & (df_scores[\"Acc\"] >= filtered_acc_min)\n",
        "        & (df_scores[\"Acc\"] <= filtered_acc_max)\n",
        "        | (df_scores['Ranked']!=1)\n",
        "        ]\n",
        "\n",
        "    if filtered_ranked_is_enable:\n",
        "        df_history = df_history[(df_history['Ranked']==1)]\n",
        "\n",
        "    if filtered_fullcombo_is_enable:\n",
        "        df_history = df_history[(df_history['FC']==\"FC\")]\n",
        "\n",
        "    if len(song_keyword_filter) > 0:\n",
        "        df_history = df_history[df_history[\"Song\"].str.contains(song_keyword_filter, case=False)]\n",
        "\n",
        "    history_rows_count = len(df_history)\n",
        "\n",
        "    if history_tile_is_enable:\n",
        "        print(\"{} results retrieved.\\n\".format(history_rows_count, data_max_size))\n",
        "    else:\n",
        "        print(\"有効フラグが無効です。\")\n",
        "\n",
        "    if history_rows_count > 0 and history_tile_is_enable:\n",
        "\n",
        "        df_history_table = df_history.copy()\n",
        "        \n",
        "        df_history_table['Song'] = \"<b>\" + df_history_table[\"SongName\"] + \" \" + df_history_table[\"SongSub\"] + \" </b><br /> \" + df_history_table[\"SongAuthor\"] + \"<br />[\" + df_history_table[\"LevelAuthor\"] + \"]\"\n",
        "\n",
        "        df_history_table = df_history_table\n",
        "        \n",
        "        df_history_table['Stars'] = df_history_table['Stars'].apply(func_unrank)\n",
        "\n",
        "        df_flex_table = df_history_table.copy()\n",
        "\n",
        "        if image_url_type == \"leaderboard\":\n",
        "            df_flex_table[\"FlexCover\"] = '<a href=\"'+ df_flex_table[\"LeaderboardUrl\"] + '\" target=\"_blank\"><img src=\"' + df_flex_table[\"CoverUrl\"] + '\" style=\"width:{}px;height:{}px\"/></a>'.format(cover_image_size,cover_image_size)\n",
        "        elif image_url_type == \"replay\":\n",
        "            df_flex_table[\"FlexCover\"] = '<a href=\"'+ df_flex_table[\"ReplayUrl\"] + '\" target=\"_blank\"><img src=\"' + df_flex_table[\"CoverUrl\"] + '\" style=\"width:{}px;height:{}px\"/></a>'.format(cover_image_size,cover_image_size)\n",
        "        else:\n",
        "            df_flex_table[\"FlexCover\"] = '<img src=\"' + df_flex_table[\"CoverUrl\"] + '\" style=\"width:{}px;height:{}px\"/>'.format(cover_image_size,cover_image_size)\n",
        "\n",
        "        df_flex_table[\"FlexItems\"] =df_flex_table[['FlexCover','Song','Stars','Acc','AccRank','FC','Difficulty','PP', 'PPWeight','Rank','Ranked']].apply(func_flex, axis=1)\n",
        "\n",
        "        # --------------------\n",
        "        flex_head = \"\"\"\n",
        "                    <div id=\"imageDIV\" \n",
        "                        class='flex_box_wrapper'>\n",
        "                        <div class='flex_box'>\n",
        "                    \"\"\"\n",
        "        func_player = func_player() if player_visible else \"\"\n",
        "        flex_content = \" \".join(df_flex_table.reset_index()['FlexItems'].to_list())\n",
        "        flex_end = \"</div></div>\"\n",
        "\n",
        "        img_css = \"\"\"\n",
        "        <style>\n",
        "        .flex_box {\n",
        "            width:\"\"\" + str(width) + \"\"\"px;\n",
        "            display: flex; /* フレックスボックスにする */;\n",
        "            flex-wrap: wrap;\n",
        "            padding:0px;\n",
        "            margin:0px;\n",
        "        }\n",
        "        .flex_item {\n",
        "            display: inline-block;\n",
        "            position: relative;\n",
        "            padding:0px 5px 0px 0px;\n",
        "            margin:0px;\n",
        "        }\n",
        "        .flex_str_top, .flex_str_bottom_left, .flex_str_bottom_right{\n",
        "            position: absolute;\n",
        "            font-weight: bold;\n",
        "            white-space:nowrap;\n",
        "            overflow:hidden;\n",
        "            color: #000;\n",
        "            width:\"\"\" + str(cover_image_size-10) + \"\"\"px;\n",
        "            text-shadow:1px 1px 0 #FFF, -1px -1px 0 #FFF,\n",
        "                    -1px 1px 0 #FFF, 1px -1px 0 #FFF,\n",
        "                    0px 1px 0 #FFF,  0-1px 0 #FFF,\n",
        "                    -1px 0 0 #FFF, 1px 0 0 #FFF;\n",
        "        }\n",
        "\n",
        "        .flex_str_top {\n",
        "            left: 5px;\n",
        "            top: 5px;\n",
        "        }\n",
        "\n",
        "        .flex_str_bottom_left {\n",
        "            text-align:right;\n",
        "            left: 5px;\n",
        "            bottom: 5px;\n",
        "        }\n",
        "\n",
        "        .flex_str_bottom_right {\n",
        "            left: 5px;\n",
        "            bottom: 5px;\n",
        "        }\n",
        "\n",
        "        .flex_star, .flex_acc, .flex_accrank, .flex_fc ,.flex_pp, .flex_weight {\n",
        "            padding:0px;\n",
        "            margin:0px;\n",
        "            text-align:right;\n",
        "        }\n",
        "\n",
        "        .flex_star{\n",
        "            font-size: \"\"\" + str(star_font_size) + \"\"\"px;\n",
        "        }\n",
        "\n",
        "        .flex_diff{\n",
        "            font-size: \"\"\" + str(diff_font_size) + \"\"\"px;\n",
        "        }\n",
        "\n",
        "        .flex_acc{\n",
        "            font-size: \"\"\" + str(acc_font_size) + \"\"\"px;\n",
        "        }\n",
        "\n",
        "        .flex_fc {\n",
        "            font-size: \"\"\" + str(fc_font_size) + \"\"\"px;\n",
        "        }\n",
        "\n",
        "        .flex_pp{\n",
        "            font-size: \"\"\" + str(pp_font_size) + \"\"\"px;\n",
        "        }\n",
        "\n",
        "        .flex_weight{\n",
        "            font-size: \"\"\" + str(weight_font_size) + \"\"\"px;\n",
        "        }\n",
        "\n",
        "        .flex_rank {\n",
        "            padding:0px;\n",
        "            margin:0px;\n",
        "            font-size: \"\"\" + str(rank_font_size) + \"\"\"px;\n",
        "        }\n",
        "\n",
        "        .flex_player{\n",
        "            font-size: \"\"\" + str(player_font_size) + \"\"\"px;\n",
        "        }\n",
        "        </style>\n",
        "        \"\"\"\n",
        "        html_str = flex_head + func_player + flex_content + flex_end + img_css\n",
        "\n",
        "    else:\n",
        "        html_str = \"\"\n",
        "else:\n",
        "    html_str = \"\"\n",
        "\n",
        "HTML(html_str)"
      ],
      "metadata": {
        "cellView": "form",
        "id": "dXDk2scbzKqc",
        "colab": {
          "base_uri": "https://localhost:8080/",
          "height": 2704
        },
        "outputId": "2454a56c-b528-497f-890f-6a1c3153a3cf"
      },
      "id": "dXDk2scbzKqc",
      "execution_count": 105,
      "outputs": [
        {
          "output_type": "display_data",
          "data": {
            "text/plain": [
              "<IPython.core.display.Javascript object>"
            ],
            "application/javascript": [
              "google.colab.output.setIframeHeight(0, true, {maxHeight: 5000})"
            ]
          },
          "metadata": {}
        },
        {
          "output_type": "display_data",
          "data": {
            "text/plain": [
              "<IPython.core.display.Javascript object>"
            ],
            "application/javascript": [
              "google.colab.output.setIframeHeight(0, true, {maxHeight: 5000})"
            ]
          },
          "metadata": {}
        },
        {
          "output_type": "display_data",
          "data": {
            "text/plain": [
              "<IPython.core.display.Javascript object>"
            ],
            "application/javascript": [
              "google.colab.output.setIframeHeight(0, true, {maxHeight: 5000})"
            ]
          },
          "metadata": {}
        },
        {
          "output_type": "display_data",
          "data": {
            "text/plain": [
              "<IPython.core.display.Javascript object>"
            ],
            "application/javascript": [
              "google.colab.output.setIframeHeight(0, true, {maxHeight: 5000})"
            ]
          },
          "metadata": {}
        },
        {
          "output_type": "display_data",
          "data": {
            "text/plain": [
              "<IPython.core.display.Javascript object>"
            ],
            "application/javascript": [
              "google.colab.output.setIframeHeight(0, true, {maxHeight: 5000})"
            ]
          },
          "metadata": {}
        },
        {
          "output_type": "display_data",
          "data": {
            "text/plain": [
              "<IPython.core.display.Javascript object>"
            ],
            "application/javascript": [
              "google.colab.output.setIframeHeight(0, true, {maxHeight: 5000})"
            ]
          },
          "metadata": {}
        },
        {
          "output_type": "display_data",
          "data": {
            "text/plain": [
              "<IPython.core.display.Javascript object>"
            ],
            "application/javascript": [
              "google.colab.output.setIframeHeight(0, true, {maxHeight: 5000})"
            ]
          },
          "metadata": {}
        },
        {
          "output_type": "display_data",
          "data": {
            "text/plain": [
              "<IPython.core.display.Javascript object>"
            ],
            "application/javascript": [
              "google.colab.output.setIframeHeight(0, true, {maxHeight: 5000})"
            ]
          },
          "metadata": {}
        },
        {
          "output_type": "display_data",
          "data": {
            "text/plain": [
              "<IPython.core.display.Javascript object>"
            ],
            "application/javascript": [
              "google.colab.output.setIframeHeight(0, true, {maxHeight: 5000})"
            ]
          },
          "metadata": {}
        },
        {
          "output_type": "display_data",
          "data": {
            "text/plain": [
              "<IPython.core.display.Javascript object>"
            ],
            "application/javascript": [
              "google.colab.output.setIframeHeight(0, true, {maxHeight: 5000})"
            ]
          },
          "metadata": {}
        },
        {
          "output_type": "display_data",
          "data": {
            "text/plain": [
              "<IPython.core.display.Javascript object>"
            ],
            "application/javascript": [
              "google.colab.output.setIframeHeight(0, true, {maxHeight: 5000})"
            ]
          },
          "metadata": {}
        },
        {
          "output_type": "display_data",
          "data": {
            "text/plain": [
              "<IPython.core.display.Javascript object>"
            ],
            "application/javascript": [
              "google.colab.output.setIframeHeight(0, true, {maxHeight: 5000})"
            ]
          },
          "metadata": {}
        },
        {
          "output_type": "display_data",
          "data": {
            "text/plain": [
              "<IPython.core.display.Javascript object>"
            ],
            "application/javascript": [
              "google.colab.output.setIframeHeight(0, true, {maxHeight: 5000})"
            ]
          },
          "metadata": {}
        },
        {
          "output_type": "display_data",
          "data": {
            "text/plain": [
              "<IPython.core.display.Javascript object>"
            ],
            "application/javascript": [
              "google.colab.output.setIframeHeight(0, true, {maxHeight: 5000})"
            ]
          },
          "metadata": {}
        },
        {
          "output_type": "display_data",
          "data": {
            "text/plain": [
              "<IPython.core.display.Javascript object>"
            ],
            "application/javascript": [
              "google.colab.output.setIframeHeight(0, true, {maxHeight: 5000})"
            ]
          },
          "metadata": {}
        },
        {
          "output_type": "display_data",
          "data": {
            "text/plain": [
              "<IPython.core.display.Javascript object>"
            ],
            "application/javascript": [
              "google.colab.output.setIframeHeight(0, true, {maxHeight: 5000})"
            ]
          },
          "metadata": {}
        },
        {
          "output_type": "display_data",
          "data": {
            "text/plain": [
              "<IPython.core.display.Javascript object>"
            ],
            "application/javascript": [
              "google.colab.output.setIframeHeight(0, true, {maxHeight: 5000})"
            ]
          },
          "metadata": {}
        },
        {
          "output_type": "display_data",
          "data": {
            "text/plain": [
              "<IPython.core.display.Javascript object>"
            ],
            "application/javascript": [
              "google.colab.output.setIframeHeight(0, true, {maxHeight: 5000})"
            ]
          },
          "metadata": {}
        },
        {
          "output_type": "display_data",
          "data": {
            "text/plain": [
              "<IPython.core.display.Javascript object>"
            ],
            "application/javascript": [
              "google.colab.output.setIframeHeight(0, true, {maxHeight: 5000})"
            ]
          },
          "metadata": {}
        },
        {
          "output_type": "display_data",
          "data": {
            "text/plain": [
              "<IPython.core.display.Javascript object>"
            ],
            "application/javascript": [
              "google.colab.output.setIframeHeight(0, true, {maxHeight: 5000})"
            ]
          },
          "metadata": {}
        },
        {
          "output_type": "display_data",
          "data": {
            "text/plain": [
              "<IPython.core.display.Javascript object>"
            ],
            "application/javascript": [
              "google.colab.output.setIframeHeight(0, true, {maxHeight: 5000})"
            ]
          },
          "metadata": {}
        },
        {
          "output_type": "display_data",
          "data": {
            "text/plain": [
              "<IPython.core.display.Javascript object>"
            ],
            "application/javascript": [
              "google.colab.output.setIframeHeight(0, true, {maxHeight: 5000})"
            ]
          },
          "metadata": {}
        },
        {
          "output_type": "display_data",
          "data": {
            "text/plain": [
              "<IPython.core.display.Javascript object>"
            ],
            "application/javascript": [
              "google.colab.output.setIframeHeight(0, true, {maxHeight: 5000})"
            ]
          },
          "metadata": {}
        },
        {
          "output_type": "display_data",
          "data": {
            "text/plain": [
              "<IPython.core.display.Javascript object>"
            ],
            "application/javascript": [
              "google.colab.output.setIframeHeight(0, true, {maxHeight: 5000})"
            ]
          },
          "metadata": {}
        },
        {
          "output_type": "display_data",
          "data": {
            "text/plain": [
              "<IPython.core.display.Javascript object>"
            ],
            "application/javascript": [
              "google.colab.output.setIframeHeight(0, true, {maxHeight: 5000})"
            ]
          },
          "metadata": {}
        },
        {
          "output_type": "display_data",
          "data": {
            "text/plain": [
              "<IPython.core.display.Javascript object>"
            ],
            "application/javascript": [
              "google.colab.output.setIframeHeight(0, true, {maxHeight: 5000})"
            ]
          },
          "metadata": {}
        },
        {
          "output_type": "display_data",
          "data": {
            "text/plain": [
              "<IPython.core.display.Javascript object>"
            ],
            "application/javascript": [
              "google.colab.output.setIframeHeight(0, true, {maxHeight: 5000})"
            ]
          },
          "metadata": {}
        },
        {
          "output_type": "display_data",
          "data": {
            "text/plain": [
              "<IPython.core.display.Javascript object>"
            ],
            "application/javascript": [
              "google.colab.output.setIframeHeight(0, true, {maxHeight: 5000})"
            ]
          },
          "metadata": {}
        },
        {
          "output_type": "display_data",
          "data": {
            "text/plain": [
              "<IPython.core.display.Javascript object>"
            ],
            "application/javascript": [
              "google.colab.output.setIframeHeight(0, true, {maxHeight: 5000})"
            ]
          },
          "metadata": {}
        },
        {
          "output_type": "display_data",
          "data": {
            "text/plain": [
              "<IPython.core.display.Javascript object>"
            ],
            "application/javascript": [
              "google.colab.output.setIframeHeight(0, true, {maxHeight: 5000})"
            ]
          },
          "metadata": {}
        },
        {
          "output_type": "display_data",
          "data": {
            "text/plain": [
              "<IPython.core.display.Javascript object>"
            ],
            "application/javascript": [
              "google.colab.output.setIframeHeight(0, true, {maxHeight: 5000})"
            ]
          },
          "metadata": {}
        },
        {
          "output_type": "display_data",
          "data": {
            "text/plain": [
              "<IPython.core.display.Javascript object>"
            ],
            "application/javascript": [
              "google.colab.output.setIframeHeight(0, true, {maxHeight: 5000})"
            ]
          },
          "metadata": {}
        },
        {
          "output_type": "display_data",
          "data": {
            "text/plain": [
              "<IPython.core.display.Javascript object>"
            ],
            "application/javascript": [
              "google.colab.output.setIframeHeight(0, true, {maxHeight: 5000})"
            ]
          },
          "metadata": {}
        },
        {
          "output_type": "display_data",
          "data": {
            "text/plain": [
              "<IPython.core.display.Javascript object>"
            ],
            "application/javascript": [
              "google.colab.output.setIframeHeight(0, true, {maxHeight: 5000})"
            ]
          },
          "metadata": {}
        },
        {
          "output_type": "display_data",
          "data": {
            "text/plain": [
              "<IPython.core.display.Javascript object>"
            ],
            "application/javascript": [
              "google.colab.output.setIframeHeight(0, true, {maxHeight: 5000})"
            ]
          },
          "metadata": {}
        },
        {
          "output_type": "display_data",
          "data": {
            "text/plain": [
              "<IPython.core.display.Javascript object>"
            ],
            "application/javascript": [
              "google.colab.output.setIframeHeight(0, true, {maxHeight: 5000})"
            ]
          },
          "metadata": {}
        },
        {
          "output_type": "display_data",
          "data": {
            "text/plain": [
              "<IPython.core.display.Javascript object>"
            ],
            "application/javascript": [
              "google.colab.output.setIframeHeight(0, true, {maxHeight: 5000})"
            ]
          },
          "metadata": {}
        },
        {
          "output_type": "display_data",
          "data": {
            "text/plain": [
              "<IPython.core.display.Javascript object>"
            ],
            "application/javascript": [
              "google.colab.output.setIframeHeight(0, true, {maxHeight: 5000})"
            ]
          },
          "metadata": {}
        },
        {
          "output_type": "display_data",
          "data": {
            "text/plain": [
              "<IPython.core.display.Javascript object>"
            ],
            "application/javascript": [
              "google.colab.output.setIframeHeight(0, true, {maxHeight: 5000})"
            ]
          },
          "metadata": {}
        },
        {
          "output_type": "display_data",
          "data": {
            "text/plain": [
              "<IPython.core.display.Javascript object>"
            ],
            "application/javascript": [
              "google.colab.output.setIframeHeight(0, true, {maxHeight: 5000})"
            ]
          },
          "metadata": {}
        },
        {
          "output_type": "display_data",
          "data": {
            "text/plain": [
              "<IPython.core.display.Javascript object>"
            ],
            "application/javascript": [
              "google.colab.output.setIframeHeight(0, true, {maxHeight: 5000})"
            ]
          },
          "metadata": {}
        },
        {
          "output_type": "stream",
          "name": "stdout",
          "text": [
            "50 results retrieved.\n",
            "\n"
          ]
        },
        {
          "output_type": "execute_result",
          "data": {
            "text/plain": [
              "<IPython.core.display.HTML object>"
            ],
            "text/html": [
              "\n",
              "                    <div id=\"imageDIV\" \n",
              "                        class='flex_box_wrapper'>\n",
              "                        <div class='flex_box'>\n",
              "                    \n",
              "                <div class='flex_item'><a href=\"https://www.beatleader.xyz/leaderboard/global/1aaf171\" target=\"_blank\"><img src=\"https://eu.cdn.beatsaver.com/2ff1d5b62cf869abcbb183dca363ab726ebbf852.jpg\" style=\"width:200px;height:200px\"/></a><br/>\n",
              "                    <div class='flex_str_top'>\n",
              "                        <div class='flex_song'><b>Bookmaker  </b><br /> Kobaryo<br />[Lobster]</div>\n",
              "                    </div>\n",
              "                    <div class='flex_str_bottom_left'>\n",
              "                        <div style='color: #E53935; font-weight: bold;'><span= class='flex_diff'>Ex</span> <span class='flex_star'>8.25★</span></div>\n",
              "                        <div><span class='flex_fc' style='color: black'></span> <span class='flex_acc' style='color: #ff4500; font-weight: bold;'>92.07%</span></div>\n",
              "                        <div><span class='flex_pp' style='color: #ffaaff'>315.4pp</span> <span class='flex_weight' style='color: black'></span></div>\n",
              "                    </div>\n",
              "                    <div class='flex_str_bottom_right'>\n",
              "                        <div class='flex_rank' style='color: #ff4500'>#100</div>\n",
              "                    </div>\n",
              "                </div>\n",
              "                 \n",
              "                <div class='flex_item'><a href=\"https://www.beatleader.xyz/leaderboard/global/1acf571\" target=\"_blank\"><img src=\"https://eu.cdn.beatsaver.com/8ffd0778634ae5aaa4ea8e94886ad8957b3a7ca2.jpg\" style=\"width:200px;height:200px\"/></a><br/>\n",
              "                    <div class='flex_str_top'>\n",
              "                        <div class='flex_song'><b>SLIME INCIDENT  </b><br /> Camellia<br />[Helloiamdaan & Joshabi]</div>\n",
              "                    </div>\n",
              "                    <div class='flex_str_bottom_left'>\n",
              "                        <div style='color: #E53935; font-weight: bold;'><span= class='flex_diff'>Ex</span> <span class='flex_star'>7.75★</span></div>\n",
              "                        <div><span class='flex_fc' style='color: black'></span> <span class='flex_acc' style='color: #ff4500; font-weight: bold;'>93.24%</span></div>\n",
              "                        <div><span class='flex_pp' style='color: #ffaaff'>313.0pp</span> <span class='flex_weight' style='color: black'></span></div>\n",
              "                    </div>\n",
              "                    <div class='flex_str_bottom_right'>\n",
              "                        <div class='flex_rank' style='color: #ffaaff'>#162</div>\n",
              "                    </div>\n",
              "                </div>\n",
              "                 \n",
              "                <div class='flex_item'><a href=\"https://www.beatleader.xyz/leaderboard/global/182bc91\" target=\"_blank\"><img src=\"https://eu.cdn.beatsaver.com/699be1d240cc0e814812b000fa2444e2b0165469.jpg\" style=\"width:200px;height:200px\"/></a><br/>\n",
              "                    <div class='flex_str_top'>\n",
              "                        <div class='flex_song'><b>Additional Memory  </b><br /> JIN<br />[Joshabi]</div>\n",
              "                    </div>\n",
              "                    <div class='flex_str_bottom_left'>\n",
              "                        <div style='color: #8E24AA; font-weight: bold;'><span= class='flex_diff'>Ex+</span> <span class='flex_star'>8.64★</span></div>\n",
              "                        <div><span class='flex_fc' style='color: black'></span> <span class='flex_acc' style='color: #ff4500; font-weight: bold;'>90.55%</span></div>\n",
              "                        <div><span class='flex_pp' style='color: #ffaaff'>310.2pp</span> <span class='flex_weight' style='color: black'></span></div>\n",
              "                    </div>\n",
              "                    <div class='flex_str_bottom_right'>\n",
              "                        <div class='flex_rank' style='color: #ffaaff'>#166</div>\n",
              "                    </div>\n",
              "                </div>\n",
              "                 \n",
              "                <div class='flex_item'><a href=\"https://www.beatleader.xyz/leaderboard/global/ca0391\" target=\"_blank\"><img src=\"https://eu.cdn.beatsaver.com/cd401aee2dbcc97cb91f77ad0a852e9e62272e52.jpg\" style=\"width:200px;height:200px\"/></a><br/>\n",
              "                    <div class='flex_str_top'>\n",
              "                        <div class='flex_song'><b>Ding Dong Song (Radio Edit) </b><br /> Gunther & The Sunshine Girls<br />[Teuflum]</div>\n",
              "                    </div>\n",
              "                    <div class='flex_str_bottom_left'>\n",
              "                        <div style='color: #8E24AA; font-weight: bold;'><span= class='flex_diff'>Ex+</span> <span class='flex_star'>7.50★</span></div>\n",
              "                        <div><span class='flex_fc' style='color: black'></span> <span class='flex_acc' style='color: #ff4500; font-weight: bold;'>93.00%</span></div>\n",
              "                        <div><span class='flex_pp' style='color: #ffcc66'>298.1pp</span> <span class='flex_weight' style='color: black'></span></div>\n",
              "                    </div>\n",
              "                    <div class='flex_str_bottom_right'>\n",
              "                        <div class='flex_rank' style='color: #636EFA'>#24</div>\n",
              "                    </div>\n",
              "                </div>\n",
              "                 \n",
              "                <div class='flex_item'><a href=\"https://www.beatleader.xyz/leaderboard/global/23596xxx31\" target=\"_blank\"><img src=\"https://na.cdn.beatsaver.com/c3cfed196f96b161c0862ec387e0ee9241cd5b48.jpg\" style=\"width:200px;height:200px\"/></a><br/>\n",
              "                    <div class='flex_str_top'>\n",
              "                        <div class='flex_song'><b>Novablast  </b><br /> Rhea<br />[Bitz, Cokeinjector, Luck & Sync]</div>\n",
              "                    </div>\n",
              "                    <div class='flex_str_bottom_left'>\n",
              "                        <div style='color: #29B6F6; font-weight: bold;'><span= class='flex_diff'>N</span> <span class='flex_star'>7.00★</span></div>\n",
              "                        <div><span class='flex_fc' style='color: #23D160'>FC</span> <span class='flex_acc' style='color: #ff4500; font-weight: bold;'>94.02%</span></div>\n",
              "                        <div><span class='flex_pp' style='color: #ffcc66'>293.4pp</span> <span class='flex_weight' style='color: black'></span></div>\n",
              "                    </div>\n",
              "                    <div class='flex_str_bottom_right'>\n",
              "                        <div class='flex_rank' style='color: #636EFA'>#37</div>\n",
              "                    </div>\n",
              "                </div>\n",
              "                 \n",
              "                <div class='flex_item'><a href=\"https://www.beatleader.xyz/leaderboard/global/1f9f6x71\" target=\"_blank\"><img src=\"https://eu.cdn.beatsaver.com/1c1a22c6a4a7a6fe6c68bcf05a9bb7fe3fd48fd5.jpg\" style=\"width:200px;height:200px\"/></a><br/>\n",
              "                    <div class='flex_str_top'>\n",
              "                        <div class='flex_song'><b>Heracles  </b><br /> Yooh<br />[Fnyt]</div>\n",
              "                    </div>\n",
              "                    <div class='flex_str_bottom_left'>\n",
              "                        <div style='color: #E53935; font-weight: bold;'><span= class='flex_diff'>Ex</span> <span class='flex_star'>8.20★</span></div>\n",
              "                        <div><span class='flex_fc' style='color: black'></span> <span class='flex_acc' style='color: #ff4500; font-weight: bold;'>90.61%</span></div>\n",
              "                        <div><span class='flex_pp' style='color: #ffcc66'>293.2pp</span> <span class='flex_weight' style='color: black'></span></div>\n",
              "                    </div>\n",
              "                    <div class='flex_str_bottom_right'>\n",
              "                        <div class='flex_rank' style='color: #636EFA'>#29</div>\n",
              "                    </div>\n",
              "                </div>\n",
              "                 \n",
              "                <div class='flex_item'><a href=\"https://www.beatleader.xyz/leaderboard/global/12c0c71\" target=\"_blank\"><img src=\"https://eu.cdn.beatsaver.com/8a952d18d0dd2cb04e8a8e7e027c1e28b1fa478a.jpg\" style=\"width:200px;height:200px\"/></a><br/>\n",
              "                    <div class='flex_str_top'>\n",
              "                        <div class='flex_song'><b>Superpower  </b><br /> Thaehan<br />[SlimyBlob]</div>\n",
              "                    </div>\n",
              "                    <div class='flex_str_bottom_left'>\n",
              "                        <div style='color: #E53935; font-weight: bold;'><span= class='flex_diff'>Ex</span> <span class='flex_star'>6.87★</span></div>\n",
              "                        <div><span class='flex_fc' style='color: #23D160'>FC</span> <span class='flex_acc' style='color: #ff4500; font-weight: bold;'>94.28%</span></div>\n",
              "                        <div><span class='flex_pp' style='color: #ffcc66'>292.3pp</span> <span class='flex_weight' style='color: black'></span></div>\n",
              "                    </div>\n",
              "                    <div class='flex_str_bottom_right'>\n",
              "                        <div class='flex_rank' style='color: #636EFA'>#14</div>\n",
              "                    </div>\n",
              "                </div>\n",
              "                 \n",
              "                <div class='flex_item'><a href=\"https://www.beatleader.xyz/leaderboard/global/2576dxxxxx71\" target=\"_blank\"><img src=\"https://na.cdn.beatsaver.com/43304202ec7681e52b4026313c7ab9099be2890d.jpg\" style=\"width:200px;height:200px\"/></a><br/>\n",
              "                    <div class='flex_str_top'>\n",
              "                        <div class='flex_song'><b>666 (Nanodesu's Elect\"6\" Swing Bootleg) </b><br /> RoughSketch<br />[Bitz & Luck]</div>\n",
              "                    </div>\n",
              "                    <div class='flex_str_bottom_left'>\n",
              "                        <div style='color: #E53935; font-weight: bold;'><span= class='flex_diff'>Ex</span> <span class='flex_star'>8.10★</span></div>\n",
              "                        <div><span class='flex_fc' style='color: black'></span> <span class='flex_acc' style='color: #ff4500; font-weight: bold;'>90.84%</span></div>\n",
              "                        <div><span class='flex_pp' style='color: #ffcc66'>292.2pp</span> <span class='flex_weight' style='color: black'></span></div>\n",
              "                    </div>\n",
              "                    <div class='flex_str_bottom_right'>\n",
              "                        <div class='flex_rank' style='color: #ffaaff'>#124</div>\n",
              "                    </div>\n",
              "                </div>\n",
              "                 \n",
              "                <div class='flex_item'><a href=\"https://www.beatleader.xyz/leaderboard/global/1d5d471\" target=\"_blank\"><img src=\"https://eu.cdn.beatsaver.com/d9445f7d3dc8ccba8a5f4f5c197524b5078d1b77.jpg\" style=\"width:200px;height:200px\"/></a><br/>\n",
              "                    <div class='flex_str_top'>\n",
              "                        <div class='flex_song'><b>Kisaragi  </b><br /> Camellia<br />[Nolanimations]</div>\n",
              "                    </div>\n",
              "                    <div class='flex_str_bottom_left'>\n",
              "                        <div style='color: #E53935; font-weight: bold;'><span= class='flex_diff'>Ex</span> <span class='flex_star'>7.67★</span></div>\n",
              "                        <div><span class='flex_fc' style='color: black'></span> <span class='flex_acc' style='color: #ff4500; font-weight: bold;'>91.94%</span></div>\n",
              "                        <div><span class='flex_pp' style='color: #ffcc66'>289.3pp</span> <span class='flex_weight' style='color: black'></span></div>\n",
              "                    </div>\n",
              "                    <div class='flex_str_bottom_right'>\n",
              "                        <div class='flex_rank' style='color: #ff4500'>#67</div>\n",
              "                    </div>\n",
              "                </div>\n",
              "                 \n",
              "                <div class='flex_item'><a href=\"https://www.beatleader.xyz/leaderboard/global/1079371\" target=\"_blank\"><img src=\"https://eu.cdn.beatsaver.com/6c680ab891c7a5af515161c156bf0249fe77f010.jpg\" style=\"width:200px;height:200px\"/></a><br/>\n",
              "                    <div class='flex_str_top'>\n",
              "                        <div class='flex_song'><b>Planetes (Short Ver.) </b><br /> EGOIST<br />[Uninstaller]</div>\n",
              "                    </div>\n",
              "                    <div class='flex_str_bottom_left'>\n",
              "                        <div style='color: #E53935; font-weight: bold;'><span= class='flex_diff'>Ex</span> <span class='flex_star'>6.14★</span></div>\n",
              "                        <div><span class='flex_fc' style='color: #23D160'>FC</span> <span class='flex_acc' style='color: #636EFA; font-weight: bold;'>95.50%</span></div>\n",
              "                        <div><span class='flex_pp' style='color: #ffcc66'>283.0pp</span> <span class='flex_weight' style='color: black'></span></div>\n",
              "                    </div>\n",
              "                    <div class='flex_str_bottom_right'>\n",
              "                        <div class='flex_rank' style='color: #636EFA'>#40</div>\n",
              "                    </div>\n",
              "                </div>\n",
              "                 \n",
              "                <div class='flex_item'><a href=\"https://www.beatleader.xyz/leaderboard/global/1303c71\" target=\"_blank\"><img src=\"https://eu.cdn.beatsaver.com/02453d0da574dc076f1fa1be810bbaf55c4bafb1.jpg\" style=\"width:200px;height:200px\"/></a><br/>\n",
              "                    <div class='flex_str_top'>\n",
              "                        <div class='flex_song'><b>Guardian  </b><br /> Aether Realm<br />[shrado & Scrappy]</div>\n",
              "                    </div>\n",
              "                    <div class='flex_str_bottom_left'>\n",
              "                        <div style='color: #E53935; font-weight: bold;'><span= class='flex_diff'>Ex</span> <span class='flex_star'>6.36★</span></div>\n",
              "                        <div><span class='flex_fc' style='color: black'></span> <span class='flex_acc' style='color: #ff4500; font-weight: bold;'>94.93%</span></div>\n",
              "                        <div><span class='flex_pp' style='color: #ffcc66'>281.6pp</span> <span class='flex_weight' style='color: black'></span></div>\n",
              "                    </div>\n",
              "                    <div class='flex_str_bottom_right'>\n",
              "                        <div class='flex_rank' style='color: #ff4500'>#67</div>\n",
              "                    </div>\n",
              "                </div>\n",
              "                 \n",
              "                <div class='flex_item'><a href=\"https://www.beatleader.xyz/leaderboard/global/19cf171\" target=\"_blank\"><img src=\"https://eu.cdn.beatsaver.com/01bda6c582867ad1f9664d1382488d7fa925ed6b.jpg\" style=\"width:200px;height:200px\"/></a><br/>\n",
              "                    <div class='flex_str_top'>\n",
              "                        <div class='flex_song'><b>BATTLE NO.1  </b><br /> TANO*C Sound Team<br />[Various Mappers]</div>\n",
              "                    </div>\n",
              "                    <div class='flex_str_bottom_left'>\n",
              "                        <div style='color: #E53935; font-weight: bold;'><span= class='flex_diff'>Ex</span> <span class='flex_star'>6.95★</span></div>\n",
              "                        <div><span class='flex_fc' style='color: black'></span> <span class='flex_acc' style='color: #ff4500; font-weight: bold;'>93.32%</span></div>\n",
              "                        <div><span class='flex_pp' style='color: #ffcc66'>279.4pp</span> <span class='flex_weight' style='color: black'></span></div>\n",
              "                    </div>\n",
              "                    <div class='flex_str_bottom_right'>\n",
              "                        <div class='flex_rank' style='color: #ff4500'>#76</div>\n",
              "                    </div>\n",
              "                </div>\n",
              "                 \n",
              "                <div class='flex_item'><a href=\"https://www.beatleader.xyz/leaderboard/global/fbe271\" target=\"_blank\"><img src=\"https://eu.cdn.beatsaver.com/a51425319d892986a4867388153bce45b3c28483.jpg\" style=\"width:200px;height:200px\"/></a><br/>\n",
              "                    <div class='flex_str_top'>\n",
              "                        <div class='flex_song'><b>Shake The Ground (feat. Sullivan King & Jonah Kay) </b><br /> Kill The Noise & SNAILS<br />[Checkthepan]</div>\n",
              "                    </div>\n",
              "                    <div class='flex_str_bottom_left'>\n",
              "                        <div style='color: #E53935; font-weight: bold;'><span= class='flex_diff'>Ex</span> <span class='flex_star'>7.40★</span></div>\n",
              "                        <div><span class='flex_fc' style='color: black'></span> <span class='flex_acc' style='color: #ff4500; font-weight: bold;'>91.64%</span></div>\n",
              "                        <div><span class='flex_pp' style='color: #ffcc66'>274.2pp</span> <span class='flex_weight' style='color: black'></span></div>\n",
              "                    </div>\n",
              "                    <div class='flex_str_bottom_right'>\n",
              "                        <div class='flex_rank' style='color: #636EFA'>#36</div>\n",
              "                    </div>\n",
              "                </div>\n",
              "                 \n",
              "                <div class='flex_item'><a href=\"https://www.beatleader.xyz/leaderboard/global/19ef071\" target=\"_blank\"><img src=\"https://eu.cdn.beatsaver.com/0dd46bfa01acb153ef5ae357fb4968c9ed8e4595.jpg\" style=\"width:200px;height:200px\"/></a><br/>\n",
              "                    <div class='flex_str_top'>\n",
              "                        <div class='flex_song'><b>Nasty * Nasty * Spell  </b><br /> Camellia<br />[Joshabi]</div>\n",
              "                    </div>\n",
              "                    <div class='flex_str_bottom_left'>\n",
              "                        <div style='color: #E53935; font-weight: bold;'><span= class='flex_diff'>Ex</span> <span class='flex_star'>6.48★</span></div>\n",
              "                        <div><span class='flex_fc' style='color: black'></span> <span class='flex_acc' style='color: #ff4500; font-weight: bold;'>94.22%</span></div>\n",
              "                        <div><span class='flex_pp' style='color: #ffcc66'>273.8pp</span> <span class='flex_weight' style='color: black'></span></div>\n",
              "                    </div>\n",
              "                    <div class='flex_str_bottom_right'>\n",
              "                        <div class='flex_rank' style='color: #636EFA'>#38</div>\n",
              "                    </div>\n",
              "                </div>\n",
              "                 \n",
              "                <div class='flex_item'><a href=\"https://www.beatleader.xyz/leaderboard/global/1306971\" target=\"_blank\"><img src=\"https://eu.cdn.beatsaver.com/ff4bb1df4d36edde892da375fe60ea34fef8b7a0.jpg\" style=\"width:200px;height:200px\"/></a><br/>\n",
              "                    <div class='flex_str_top'>\n",
              "                        <div class='flex_song'><b>Quon  </b><br /> DJ Noriken<br />[+1 Rabbit]</div>\n",
              "                    </div>\n",
              "                    <div class='flex_str_bottom_left'>\n",
              "                        <div style='color: #E53935; font-weight: bold;'><span= class='flex_diff'>Ex</span> <span class='flex_star'>7.26★</span></div>\n",
              "                        <div><span class='flex_fc' style='color: black'></span> <span class='flex_acc' style='color: #ff4500; font-weight: bold;'>91.99%</span></div>\n",
              "                        <div><span class='flex_pp' style='color: #ffcc66'>273.2pp</span> <span class='flex_weight' style='color: black'></span></div>\n",
              "                    </div>\n",
              "                    <div class='flex_str_bottom_right'>\n",
              "                        <div class='flex_rank' style='color: #ff4500'>#85</div>\n",
              "                    </div>\n",
              "                </div>\n",
              "                 \n",
              "                <div class='flex_item'><a href=\"https://www.beatleader.xyz/leaderboard/global/1ff94xxxxx31\" target=\"_blank\"><img src=\"https://na.cdn.beatsaver.com/2f2c1cc092dc4c75ebb27f2252651010d15c25d0.jpg\" style=\"width:200px;height:200px\"/></a><br/>\n",
              "                    <div class='flex_str_top'>\n",
              "                        <div class='flex_song'><b>DANGEROOOOUS JUNGLE  </b><br /> Laur<br />[Purp1e]</div>\n",
              "                    </div>\n",
              "                    <div class='flex_str_bottom_left'>\n",
              "                        <div style='color: #29B6F6; font-weight: bold;'><span= class='flex_diff'>N</span> <span class='flex_star'>6.50★</span></div>\n",
              "                        <div><span class='flex_fc' style='color: #23D160'>FC</span> <span class='flex_acc' style='color: #ff4500; font-weight: bold;'>94.12%</span></div>\n",
              "                        <div><span class='flex_pp' style='color: #ffcc66'>272.9pp</span> <span class='flex_weight' style='color: black'></span></div>\n",
              "                    </div>\n",
              "                    <div class='flex_str_bottom_right'>\n",
              "                        <div class='flex_rank' style='color: #636EFA'>#31</div>\n",
              "                    </div>\n",
              "                </div>\n",
              "                 \n",
              "                <div class='flex_item'><a href=\"https://www.beatleader.xyz/leaderboard/global/def051\" target=\"_blank\"><img src=\"https://eu.cdn.beatsaver.com/312e16c63c727303286a0278a713a3bcfea8186d.jpg\" style=\"width:200px;height:200px\"/></a><br/>\n",
              "                    <div class='flex_str_top'>\n",
              "                        <div class='flex_song'><b>Revenge (ReeK's \"Dude, What's A Genre?\" Remix) (feat. CaptainSparklez) </b><br /> TryHardNinja<br />[Ramen Noodle]</div>\n",
              "                    </div>\n",
              "                    <div class='flex_str_bottom_left'>\n",
              "                        <div style='color: #FB8C00; font-weight: bold;'><span= class='flex_diff'>H</span> <span class='flex_star'>6.82★</span></div>\n",
              "                        <div><span class='flex_fc' style='color: black'></span> <span class='flex_acc' style='color: #ff4500; font-weight: bold;'>93.23%</span></div>\n",
              "                        <div><span class='flex_pp' style='color: #ffcc66'>272.6pp</span> <span class='flex_weight' style='color: black'></span></div>\n",
              "                    </div>\n",
              "                    <div class='flex_str_bottom_right'>\n",
              "                        <div class='flex_rank' style='color: #636EFA'>#13</div>\n",
              "                    </div>\n",
              "                </div>\n",
              "                 \n",
              "                <div class='flex_item'><a href=\"https://www.beatleader.xyz/leaderboard/global/1a46671\" target=\"_blank\"><img src=\"https://eu.cdn.beatsaver.com/9e3cd9b0c5559167e31e6894c14e391aea937991.jpg\" style=\"width:200px;height:200px\"/></a><br/>\n",
              "                    <div class='flex_str_top'>\n",
              "                        <div class='flex_song'><b>KillerToy  </b><br /> Camellia<br />[Jabob]</div>\n",
              "                    </div>\n",
              "                    <div class='flex_str_bottom_left'>\n",
              "                        <div style='color: #E53935; font-weight: bold;'><span= class='flex_diff'>Ex</span> <span class='flex_star'>8.55★</span></div>\n",
              "                        <div><span class='flex_fc' style='color: black'></span> <span class='flex_acc' style='color: #ffaaff; font-weight: bold;'>87.07%</span></div>\n",
              "                        <div><span class='flex_pp' style='color: #ffcc66'>268.6pp</span> <span class='flex_weight' style='color: black'></span></div>\n",
              "                    </div>\n",
              "                    <div class='flex_str_bottom_right'>\n",
              "                        <div class='flex_rank' style='color: #ffaaff'>#297</div>\n",
              "                    </div>\n",
              "                </div>\n",
              "                 \n",
              "                <div class='flex_item'><a href=\"https://www.beatleader.xyz/leaderboard/global/3aa391\" target=\"_blank\"><img src=\"https://eu.cdn.beatsaver.com/d826fa2f751020ad7e59b1aeb3f5d2902755a406.jpg\" style=\"width:200px;height:200px\"/></a><br/>\n",
              "                    <div class='flex_str_top'>\n",
              "                        <div class='flex_song'><b>Hype feat. Such PSYQUI </b><br /> iraky<br />[iraky]</div>\n",
              "                    </div>\n",
              "                    <div class='flex_str_bottom_left'>\n",
              "                        <div style='color: #8E24AA; font-weight: bold;'><span= class='flex_diff'>Ex+</span> <span class='flex_star'>8.88★</span></div>\n",
              "                        <div><span class='flex_fc' style='color: black'></span> <span class='flex_acc' style='color: #ffaaff; font-weight: bold;'>84.92%</span></div>\n",
              "                        <div><span class='flex_pp' style='color: #ffcc66'>261.7pp</span> <span class='flex_weight' style='color: black'></span></div>\n",
              "                    </div>\n",
              "                    <div class='flex_str_bottom_right'>\n",
              "                        <div class='flex_rank' style='color: #636EFA'>#27</div>\n",
              "                    </div>\n",
              "                </div>\n",
              "                 \n",
              "                <div class='flex_item'><a href=\"https://www.beatleader.xyz/leaderboard/global/1784271\" target=\"_blank\"><img src=\"https://eu.cdn.beatsaver.com/58b97c73a2fdacefc75c48813c4d267d2369b9ce.jpg\" style=\"width:200px;height:200px\"/></a><br/>\n",
              "                    <div class='flex_str_top'>\n",
              "                        <div class='flex_song'><b>Tenohira De Odoru  </b><br /> sokoninaru<br />[Tootie & Oddloop & fraies]</div>\n",
              "                    </div>\n",
              "                    <div class='flex_str_bottom_left'>\n",
              "                        <div style='color: #E53935; font-weight: bold;'><span= class='flex_diff'>Ex</span> <span class='flex_star'>7.17★</span></div>\n",
              "                        <div><span class='flex_fc' style='color: black'></span> <span class='flex_acc' style='color: #ff4500; font-weight: bold;'>91.30%</span></div>\n",
              "                        <div><span class='flex_pp' style='color: #ffcc66'>260.8pp</span> <span class='flex_weight' style='color: black'></span></div>\n",
              "                    </div>\n",
              "                    <div class='flex_str_bottom_right'>\n",
              "                        <div class='flex_rank' style='color: #636EFA'>#46</div>\n",
              "                    </div>\n",
              "                </div>\n",
              "                 \n",
              "                <div class='flex_item'><a href=\"https://www.beatleader.xyz/leaderboard/global/124d271\" target=\"_blank\"><img src=\"https://eu.cdn.beatsaver.com/fd58b27e3ee2d176211c7f53d4a4122cc378aa6c.jpg\" style=\"width:200px;height:200px\"/></a><br/>\n",
              "                    <div class='flex_str_top'>\n",
              "                        <div class='flex_song'><b>ALONE  </b><br /> MY FIRST STORY<br />[muffn & SimplyMarvellous]</div>\n",
              "                    </div>\n",
              "                    <div class='flex_str_bottom_left'>\n",
              "                        <div style='color: #E53935; font-weight: bold;'><span= class='flex_diff'>Ex</span> <span class='flex_star'>7.15★</span></div>\n",
              "                        <div><span class='flex_fc' style='color: black'></span> <span class='flex_acc' style='color: #ff4500; font-weight: bold;'>91.25%</span></div>\n",
              "                        <div><span class='flex_pp' style='color: #ffcc66'>259.3pp</span> <span class='flex_weight' style='color: black'></span></div>\n",
              "                    </div>\n",
              "                    <div class='flex_str_bottom_right'>\n",
              "                        <div class='flex_rank' style='color: #ff4500'>#55</div>\n",
              "                    </div>\n",
              "                </div>\n",
              "                 \n",
              "                <div class='flex_item'><a href=\"https://www.beatleader.xyz/leaderboard/global/22717x91\" target=\"_blank\"><img src=\"https://eu.cdn.beatsaver.com/c42cec2c8a1c2921883ad36b9e61752cc8717fdc.jpg\" style=\"width:200px;height:200px\"/></a><br/>\n",
              "                    <div class='flex_str_top'>\n",
              "                        <div class='flex_song'><b>Waifu ft Lexi </b><br /> S3RL & Alaguan<br />[fqrb]</div>\n",
              "                    </div>\n",
              "                    <div class='flex_str_bottom_left'>\n",
              "                        <div style='color: #8E24AA; font-weight: bold;'><span= class='flex_diff'>Ex+</span> <span class='flex_star'>6.50★</span></div>\n",
              "                        <div><span class='flex_fc' style='color: black'></span> <span class='flex_acc' style='color: #ff4500; font-weight: bold;'>93.03%</span></div>\n",
              "                        <div><span class='flex_pp' style='color: #ffcc66'>256.1pp</span> <span class='flex_weight' style='color: black'></span></div>\n",
              "                    </div>\n",
              "                    <div class='flex_str_bottom_right'>\n",
              "                        <div class='flex_rank' style='color: #ffaaff'>#116</div>\n",
              "                    </div>\n",
              "                </div>\n",
              "                 \n",
              "                <div class='flex_item'><a href=\"https://www.beatleader.xyz/leaderboard/global/23f7bxx51\" target=\"_blank\"><img src=\"https://na.cdn.beatsaver.com/6a7b5ac69f69a88ea0ac00e4282ff129173ffb83.jpg\" style=\"width:200px;height:200px\"/></a><br/>\n",
              "                    <div class='flex_str_top'>\n",
              "                        <div class='flex_song'><b>Dimension Hacker  </b><br /> Kobaryo<br />[Aquaflee]</div>\n",
              "                    </div>\n",
              "                    <div class='flex_str_bottom_left'>\n",
              "                        <div style='color: #FB8C00; font-weight: bold;'><span= class='flex_diff'>H</span> <span class='flex_star'>6.40★</span></div>\n",
              "                        <div><span class='flex_fc' style='color: black'></span> <span class='flex_acc' style='color: #ff4500; font-weight: bold;'>92.93%</span></div>\n",
              "                        <div><span class='flex_pp' style='color: #ffcc66'>250.5pp</span> <span class='flex_weight' style='color: black'></span></div>\n",
              "                    </div>\n",
              "                    <div class='flex_str_bottom_right'>\n",
              "                        <div class='flex_rank' style='color: #ffaaff'>#111</div>\n",
              "                    </div>\n",
              "                </div>\n",
              "                 \n",
              "                <div class='flex_item'><a href=\"https://www.beatleader.xyz/leaderboard/global/e23f71\" target=\"_blank\"><img src=\"https://eu.cdn.beatsaver.com/7ae4747a006c6e64f3c6e63e0139b11046e0fd87.jpg\" style=\"width:200px;height:200px\"/></a><br/>\n",
              "                    <div class='flex_str_top'>\n",
              "                        <div class='flex_song'><b>Night SURFING (TV Size) </b><br /> (K)NoW_NAME<br />[Pug]</div>\n",
              "                    </div>\n",
              "                    <div class='flex_str_bottom_left'>\n",
              "                        <div style='color: #E53935; font-weight: bold;'><span= class='flex_diff'>Ex</span> <span class='flex_star'>6.13★</span></div>\n",
              "                        <div><span class='flex_fc' style='color: #23D160'>FC</span> <span class='flex_acc' style='color: #ff4500; font-weight: bold;'>93.45%</span></div>\n",
              "                        <div><span class='flex_pp' style='color: #cccc66'>246.5pp</span> <span class='flex_weight' style='color: black'></span></div>\n",
              "                    </div>\n",
              "                    <div class='flex_str_bottom_right'>\n",
              "                        <div class='flex_rank' style='color: #636EFA'>#29</div>\n",
              "                    </div>\n",
              "                </div>\n",
              "                 \n",
              "                <div class='flex_item'><a href=\"https://www.beatleader.xyz/leaderboard/global/18d3e71\" target=\"_blank\"><img src=\"https://eu.cdn.beatsaver.com/403fe120b764a47a4a129f45a27541f4b00dce90.jpg\" style=\"width:200px;height:200px\"/></a><br/>\n",
              "                    <div class='flex_str_top'>\n",
              "                        <div class='flex_song'><b>Heart of Witch (DEEMO Arr.) </b><br /> ReX (Piano: Ayatsugu_Otowa)<br />[Uninstaller]</div>\n",
              "                    </div>\n",
              "                    <div class='flex_str_bottom_left'>\n",
              "                        <div style='color: #E53935; font-weight: bold;'><span= class='flex_diff'>Ex</span> <span class='flex_star'>6.82★</span></div>\n",
              "                        <div><span class='flex_fc' style='color: black'></span> <span class='flex_acc' style='color: #ff4500; font-weight: bold;'>91.20%</span></div>\n",
              "                        <div><span class='flex_pp' style='color: #cccc66'>245.7pp</span> <span class='flex_weight' style='color: black'></span></div>\n",
              "                    </div>\n",
              "                    <div class='flex_str_bottom_right'>\n",
              "                        <div class='flex_rank' style='color: #ff4500'>#66</div>\n",
              "                    </div>\n",
              "                </div>\n",
              "                 \n",
              "                <div class='flex_item'><a href=\"https://www.beatleader.xyz/leaderboard/global/b33671\" target=\"_blank\"><img src=\"https://eu.cdn.beatsaver.com/4738ac40930bc9c5f435fb57ddb3d8fddebe58ea.jpg\" style=\"width:200px;height:200px\"/></a><br/>\n",
              "                    <div class='flex_str_top'>\n",
              "                        <div class='flex_song'><b>Le Train Fantome  </b><br /> Ultra Vomit<br />[Vilawes]</div>\n",
              "                    </div>\n",
              "                    <div class='flex_str_bottom_left'>\n",
              "                        <div style='color: #E53935; font-weight: bold;'><span= class='flex_diff'>Ex</span> <span class='flex_star'>6.51★</span></div>\n",
              "                        <div><span class='flex_fc' style='color: black'></span> <span class='flex_acc' style='color: #ff4500; font-weight: bold;'>92.15%</span></div>\n",
              "                        <div><span class='flex_pp' style='color: #cccc66'>244.8pp</span> <span class='flex_weight' style='color: black'></span></div>\n",
              "                    </div>\n",
              "                    <div class='flex_str_bottom_right'>\n",
              "                        <div class='flex_rank' style='color: #636EFA'>#27</div>\n",
              "                    </div>\n",
              "                </div>\n",
              "                 \n",
              "                <div class='flex_item'><a href=\"https://www.beatleader.xyz/leaderboard/global/1b1ba71\" target=\"_blank\"><img src=\"https://eu.cdn.beatsaver.com/c21caa4dbdc45ce369f2c94d8646964d2113080d.jpg\" style=\"width:200px;height:200px\"/></a><br/>\n",
              "                    <div class='flex_str_top'>\n",
              "                        <div class='flex_song'><b>YoiYoi Kokon  </b><br /> Reol<br />[Joshabi]</div>\n",
              "                    </div>\n",
              "                    <div class='flex_str_bottom_left'>\n",
              "                        <div style='color: #E53935; font-weight: bold;'><span= class='flex_diff'>Ex</span> <span class='flex_star'>6.70★</span></div>\n",
              "                        <div><span class='flex_fc' style='color: black'></span> <span class='flex_acc' style='color: #ff4500; font-weight: bold;'>91.50%</span></div>\n",
              "                        <div><span class='flex_pp' style='color: #cccc66'>244.6pp</span> <span class='flex_weight' style='color: black'></span></div>\n",
              "                    </div>\n",
              "                    <div class='flex_str_bottom_right'>\n",
              "                        <div class='flex_rank' style='color: #ff4500'>#98</div>\n",
              "                    </div>\n",
              "                </div>\n",
              "                 \n",
              "                <div class='flex_item'><a href=\"https://www.beatleader.xyz/leaderboard/global/1f9f6x51\" target=\"_blank\"><img src=\"https://eu.cdn.beatsaver.com/1c1a22c6a4a7a6fe6c68bcf05a9bb7fe3fd48fd5.jpg\" style=\"width:200px;height:200px\"/></a><br/>\n",
              "                    <div class='flex_str_top'>\n",
              "                        <div class='flex_song'><b>Heracles  </b><br /> Yooh<br />[Fnyt]</div>\n",
              "                    </div>\n",
              "                    <div class='flex_str_bottom_left'>\n",
              "                        <div style='color: #FB8C00; font-weight: bold;'><span= class='flex_diff'>H</span> <span class='flex_star'>6.20★</span></div>\n",
              "                        <div><span class='flex_fc' style='color: black'></span> <span class='flex_acc' style='color: #ff4500; font-weight: bold;'>93.01%</span></div>\n",
              "                        <div><span class='flex_pp' style='color: #cccc66'>243.3pp</span> <span class='flex_weight' style='color: black'></span></div>\n",
              "                    </div>\n",
              "                    <div class='flex_str_bottom_right'>\n",
              "                        <div class='flex_rank' style='color: #636EFA'>#24</div>\n",
              "                    </div>\n",
              "                </div>\n",
              "                 \n",
              "                <div class='flex_item'><a href=\"https://www.beatleader.xyz/leaderboard/global/1442791\" target=\"_blank\"><img src=\"https://eu.cdn.beatsaver.com/a949bb798e16a81092e54a38b78eb1375f06e49f.jpg\" style=\"width:200px;height:200px\"/></a><br/>\n",
              "                    <div class='flex_str_top'>\n",
              "                        <div class='flex_song'><b>Kingslayer (feat. BABYMETAL) </b><br /> Bring Me The Horizon<br />[muffn & altrewin]</div>\n",
              "                    </div>\n",
              "                    <div class='flex_str_bottom_left'>\n",
              "                        <div style='color: #8E24AA; font-weight: bold;'><span= class='flex_diff'>Ex+</span> <span class='flex_star'>7.76★</span></div>\n",
              "                        <div><span class='flex_fc' style='color: black'></span> <span class='flex_acc' style='color: #ffaaff; font-weight: bold;'>87.32%</span></div>\n",
              "                        <div><span class='flex_pp' style='color: #cccc66'>242.3pp</span> <span class='flex_weight' style='color: black'></span></div>\n",
              "                    </div>\n",
              "                    <div class='flex_str_bottom_right'>\n",
              "                        <div class='flex_rank' style='color: #ffaaff'>#244</div>\n",
              "                    </div>\n",
              "                </div>\n",
              "                 \n",
              "                <div class='flex_item'><a href=\"https://www.beatleader.xyz/leaderboard/global/268391\" target=\"_blank\"><img src=\"https://eu.cdn.beatsaver.com/aedd974bd0b7bfaf8c9f9950bfd6368c04ade258.jpg\" style=\"width:200px;height:200px\"/></a><br/>\n",
              "                    <div class='flex_str_top'>\n",
              "                        <div class='flex_song'><b>Routine Silent Siren </b><br /> Hexagonial & Splake & Puds<br />[hexagonial]</div>\n",
              "                    </div>\n",
              "                    <div class='flex_str_bottom_left'>\n",
              "                        <div style='color: #8E24AA; font-weight: bold;'><span= class='flex_diff'>Ex+</span> <span class='flex_star'>7.67★</span></div>\n",
              "                        <div><span class='flex_fc' style='color: black'></span> <span class='flex_acc' style='color: #ffaaff; font-weight: bold;'>87.56%</span></div>\n",
              "                        <div><span class='flex_pp' style='color: #cccc66'>241.2pp</span> <span class='flex_weight' style='color: black'></span></div>\n",
              "                    </div>\n",
              "                    <div class='flex_str_bottom_right'>\n",
              "                        <div class='flex_rank' style='color: #ff4500'>#51</div>\n",
              "                    </div>\n",
              "                </div>\n",
              "                 \n",
              "                <div class='flex_item'><a href=\"https://www.beatleader.xyz/leaderboard/global/fba391\" target=\"_blank\"><img src=\"https://eu.cdn.beatsaver.com/3569841e50ebfb50246aaddfd0752ca6ec5c9c3d.jpg\" style=\"width:200px;height:200px\"/></a><br/>\n",
              "                    <div class='flex_str_top'>\n",
              "                        <div class='flex_song'><b>Ruffneck Bass  </b><br /> Bass Modulators<br />[Nolanimations]</div>\n",
              "                    </div>\n",
              "                    <div class='flex_str_bottom_left'>\n",
              "                        <div style='color: #8E24AA; font-weight: bold;'><span= class='flex_diff'>Ex+</span> <span class='flex_star'>7.95★</span></div>\n",
              "                        <div><span class='flex_fc' style='color: black'></span> <span class='flex_acc' style='color: #ffaaff; font-weight: bold;'>86.38%</span></div>\n",
              "                        <div><span class='flex_pp' style='color: #cccc66'>241.0pp</span> <span class='flex_weight' style='color: black'></span></div>\n",
              "                    </div>\n",
              "                    <div class='flex_str_bottom_right'>\n",
              "                        <div class='flex_rank' style='color: #636EFA'>#27</div>\n",
              "                    </div>\n",
              "                </div>\n",
              "                 \n",
              "                <div class='flex_item'><a href=\"https://www.beatleader.xyz/leaderboard/global/1a59371\" target=\"_blank\"><img src=\"https://eu.cdn.beatsaver.com/471b5a6822576df5d2411d9d8bc86dca3c68436e.jpg\" style=\"width:200px;height:200px\"/></a><br/>\n",
              "                    <div class='flex_str_top'>\n",
              "                        <div class='flex_song'><b>Barbecue  </b><br /> Igorrr & Ruby My Dear<br />[Schwank & Jabob]</div>\n",
              "                    </div>\n",
              "                    <div class='flex_str_bottom_left'>\n",
              "                        <div style='color: #E53935; font-weight: bold;'><span= class='flex_diff'>Ex</span> <span class='flex_star'>6.92★</span></div>\n",
              "                        <div><span class='flex_fc' style='color: black'></span> <span class='flex_acc' style='color: #ff4500; font-weight: bold;'>90.28%</span></div>\n",
              "                        <div><span class='flex_pp' style='color: #cccc66'>239.6pp</span> <span class='flex_weight' style='color: black'></span></div>\n",
              "                    </div>\n",
              "                    <div class='flex_str_bottom_right'>\n",
              "                        <div class='flex_rank' style='color: #ffaaff'>#207</div>\n",
              "                    </div>\n",
              "                </div>\n",
              "                 \n",
              "                <div class='flex_item'><a href=\"https://www.beatleader.xyz/leaderboard/global/b64291\" target=\"_blank\"><img src=\"https://eu.cdn.beatsaver.com/3054c83ed7170a77b1d98f4381123bdb95485421.jpg\" style=\"width:200px;height:200px\"/></a><br/>\n",
              "                    <div class='flex_str_top'>\n",
              "                        <div class='flex_song'><b>T.R.Y Revolution  </b><br /> Halozy<br />[Kival Evan]</div>\n",
              "                    </div>\n",
              "                    <div class='flex_str_bottom_left'>\n",
              "                        <div style='color: #8E24AA; font-weight: bold;'><span= class='flex_diff'>Ex+</span> <span class='flex_star'>6.96★</span></div>\n",
              "                        <div><span class='flex_fc' style='color: black'></span> <span class='flex_acc' style='color: #ff4500; font-weight: bold;'>90.10%</span></div>\n",
              "                        <div><span class='flex_pp' style='color: #cccc66'>239.3pp</span> <span class='flex_weight' style='color: black'></span></div>\n",
              "                    </div>\n",
              "                    <div class='flex_str_bottom_right'>\n",
              "                        <div class='flex_rank' style='color: #636EFA'>#27</div>\n",
              "                    </div>\n",
              "                </div>\n",
              "                 \n",
              "                <div class='flex_item'><a href=\"https://www.beatleader.xyz/leaderboard/global/1dc9451\" target=\"_blank\"><img src=\"https://eu.cdn.beatsaver.com/74da5649f0c327c6d9e092d5cbad1204e1855559.jpg\" style=\"width:200px;height:200px\"/></a><br/>\n",
              "                    <div class='flex_str_top'>\n",
              "                        <div class='flex_song'><b>Mystery Circles Ultra / U.U.F.O.  </b><br /> Camellia<br />[cerret & Nolanimations]</div>\n",
              "                    </div>\n",
              "                    <div class='flex_str_bottom_left'>\n",
              "                        <div style='color: #FB8C00; font-weight: bold;'><span= class='flex_diff'>H</span> <span class='flex_star'>6.50★</span></div>\n",
              "                        <div><span class='flex_fc' style='color: black'></span> <span class='flex_acc' style='color: #ff4500; font-weight: bold;'>91.49%</span></div>\n",
              "                        <div><span class='flex_pp' style='color: #cccc66'>236.6pp</span> <span class='flex_weight' style='color: black'></span></div>\n",
              "                    </div>\n",
              "                    <div class='flex_str_bottom_right'>\n",
              "                        <div class='flex_rank' style='color: #ffaaff'>#123</div>\n",
              "                    </div>\n",
              "                </div>\n",
              "                 \n",
              "                <div class='flex_item'><a href=\"https://www.beatleader.xyz/leaderboard/global/1aacd51\" target=\"_blank\"><img src=\"https://eu.cdn.beatsaver.com/2ca56cf8089df51c424668b98f6e2236969f4232.jpg\" style=\"width:200px;height:200px\"/></a><br/>\n",
              "                    <div class='flex_str_top'>\n",
              "                        <div class='flex_song'><b>Carry Me Away (Extended Mix) </b><br /> lapix<br />[harbgy & Edmard]</div>\n",
              "                    </div>\n",
              "                    <div class='flex_str_bottom_left'>\n",
              "                        <div style='color: #FB8C00; font-weight: bold;'><span= class='flex_diff'>H</span> <span class='flex_star'>6.40★</span></div>\n",
              "                        <div><span class='flex_fc' style='color: black'></span> <span class='flex_acc' style='color: #ff4500; font-weight: bold;'>91.79%</span></div>\n",
              "                        <div><span class='flex_pp' style='color: #cccc66'>236.2pp</span> <span class='flex_weight' style='color: black'></span></div>\n",
              "                    </div>\n",
              "                    <div class='flex_str_bottom_right'>\n",
              "                        <div class='flex_rank' style='color: #636EFA'>#17</div>\n",
              "                    </div>\n",
              "                </div>\n",
              "                 \n",
              "                <div class='flex_item'><a href=\"https://www.beatleader.xyz/leaderboard/global/1306991\" target=\"_blank\"><img src=\"https://eu.cdn.beatsaver.com/ff4bb1df4d36edde892da375fe60ea34fef8b7a0.jpg\" style=\"width:200px;height:200px\"/></a><br/>\n",
              "                    <div class='flex_str_top'>\n",
              "                        <div class='flex_song'><b>Quon  </b><br /> DJ Noriken<br />[+1 Rabbit]</div>\n",
              "                    </div>\n",
              "                    <div class='flex_str_bottom_left'>\n",
              "                        <div style='color: #8E24AA; font-weight: bold;'><span= class='flex_diff'>Ex+</span> <span class='flex_star'>7.95★</span></div>\n",
              "                        <div><span class='flex_fc' style='color: black'></span> <span class='flex_acc' style='color: #ffaaff; font-weight: bold;'>85.75%</span></div>\n",
              "                        <div><span class='flex_pp' style='color: #cccc66'>236.0pp</span> <span class='flex_weight' style='color: black'></span></div>\n",
              "                    </div>\n",
              "                    <div class='flex_str_bottom_right'>\n",
              "                        <div class='flex_rank' style='color: #ffaaff'>#168</div>\n",
              "                    </div>\n",
              "                </div>\n",
              "                 \n",
              "                <div class='flex_item'><a href=\"https://www.beatleader.xyz/leaderboard/global/1a55e71\" target=\"_blank\"><img src=\"https://eu.cdn.beatsaver.com/7091e07305aab0e1e85f4c292c97750d138a9e4b.jpg\" style=\"width:200px;height:200px\"/></a><br/>\n",
              "                    <div class='flex_str_top'>\n",
              "                        <div class='flex_song'><b>My Album Is Out On Dance Corps So Now I Am Allowed To Do A Dancecore Yay!  </b><br /> Imil<br />[Emilia]</div>\n",
              "                    </div>\n",
              "                    <div class='flex_str_bottom_left'>\n",
              "                        <div style='color: #E53935; font-weight: bold;'><span= class='flex_diff'>Ex</span> <span class='flex_star'>8.05★</span></div>\n",
              "                        <div><span class='flex_fc' style='color: black'></span> <span class='flex_acc' style='color: #ffaaff; font-weight: bold;'>85.30%</span></div>\n",
              "                        <div><span class='flex_pp' style='color: #cccc66'>235.9pp</span> <span class='flex_weight' style='color: black'></span></div>\n",
              "                    </div>\n",
              "                    <div class='flex_str_bottom_right'>\n",
              "                        <div class='flex_rank' style='color: #ffaaff'>#263</div>\n",
              "                    </div>\n",
              "                </div>\n",
              "                 \n",
              "                <div class='flex_item'><a href=\"https://www.beatleader.xyz/leaderboard/global/1897d71\" target=\"_blank\"><img src=\"https://eu.cdn.beatsaver.com/282862e847f53fb627a34ab73873d16861a5fcd1.jpg\" style=\"width:200px;height:200px\"/></a><br/>\n",
              "                    <div class='flex_str_top'>\n",
              "                        <div class='flex_song'><b>EZ Mode  </b><br /> Akira Complex<br />[Checkthepan]</div>\n",
              "                    </div>\n",
              "                    <div class='flex_str_bottom_left'>\n",
              "                        <div style='color: #E53935; font-weight: bold;'><span= class='flex_diff'>Ex</span> <span class='flex_star'>5.91★</span></div>\n",
              "                        <div><span class='flex_fc' style='color: black'></span> <span class='flex_acc' style='color: #ff4500; font-weight: bold;'>93.32%</span></div>\n",
              "                        <div><span class='flex_pp' style='color: #cccc66'>235.4pp</span> <span class='flex_weight' style='color: black'></span></div>\n",
              "                    </div>\n",
              "                    <div class='flex_str_bottom_right'>\n",
              "                        <div class='flex_rank' style='color: #ff4500'>#53</div>\n",
              "                    </div>\n",
              "                </div>\n",
              "                 \n",
              "                <div class='flex_item'><a href=\"https://www.beatleader.xyz/leaderboard/global/1ff94xxxxx11\" target=\"_blank\"><img src=\"https://na.cdn.beatsaver.com/2f2c1cc092dc4c75ebb27f2252651010d15c25d0.jpg\" style=\"width:200px;height:200px\"/></a><br/>\n",
              "                    <div class='flex_str_top'>\n",
              "                        <div class='flex_song'><b>DANGEROOOOUS JUNGLE  </b><br /> Laur<br />[Purp1e]</div>\n",
              "                    </div>\n",
              "                    <div class='flex_str_bottom_left'>\n",
              "                        <div style='color: #66BB6A; font-weight: bold;'><span= class='flex_diff'>E</span> <span class='flex_star'>5.20★</span></div>\n",
              "                        <div><span class='flex_fc' style='color: #23D160'>FC</span> <span class='flex_acc' style='color: #636EFA; font-weight: bold;'>95.24%</span></div>\n",
              "                        <div><span class='flex_pp' style='color: #cccc66'>233.7pp</span> <span class='flex_weight' style='color: black'></span></div>\n",
              "                    </div>\n",
              "                    <div class='flex_str_bottom_right'>\n",
              "                        <div class='flex_rank' style='color: #636EFA'>#41</div>\n",
              "                    </div>\n",
              "                </div>\n",
              "                 \n",
              "                <div class='flex_item'><a href=\"https://www.beatleader.xyz/leaderboard/global/1ffad71\" target=\"_blank\"><img src=\"https://eu.cdn.beatsaver.com/8ea907efeb4fb8774c1397076008b11491b937d0.jpg\" style=\"width:200px;height:200px\"/></a><br/>\n",
              "                    <div class='flex_str_top'>\n",
              "                        <div class='flex_song'><b>A Drowning Cry  </b><br /> acloudyskye<br />[Fatalution]</div>\n",
              "                    </div>\n",
              "                    <div class='flex_str_bottom_left'>\n",
              "                        <div style='color: #E53935; font-weight: bold;'><span= class='flex_diff'>Ex</span> <span class='flex_star'>4.87★</span></div>\n",
              "                        <div><span class='flex_fc' style='color: #23D160'>FC</span> <span class='flex_acc' style='color: #636EFA; font-weight: bold;'>96.03%</span></div>\n",
              "                        <div><span class='flex_pp' style='color: #cccc66'>232.8pp</span> <span class='flex_weight' style='color: black'></span></div>\n",
              "                    </div>\n",
              "                    <div class='flex_str_bottom_right'>\n",
              "                        <div class='flex_rank' style='color: #636EFA'>#23</div>\n",
              "                    </div>\n",
              "                </div>\n",
              "                 \n",
              "                <div class='flex_item'><a href=\"https://www.beatleader.xyz/leaderboard/global/1bf9651\" target=\"_blank\"><img src=\"https://eu.cdn.beatsaver.com/d4567c5e32d8eb66dbccb169d5e2a267d340385a.jpg\" style=\"width:200px;height:200px\"/></a><br/>\n",
              "                    <div class='flex_str_top'>\n",
              "                        <div class='flex_song'><b>FLUFFY FLASH  </b><br /> Kobaryo<br />[RichardLH]</div>\n",
              "                    </div>\n",
              "                    <div class='flex_str_bottom_left'>\n",
              "                        <div style='color: #FB8C00; font-weight: bold;'><span= class='flex_diff'>H</span> <span class='flex_star'>5.03★</span></div>\n",
              "                        <div><span class='flex_fc' style='color: #23D160'>FC</span> <span class='flex_acc' style='color: #636EFA; font-weight: bold;'>95.54%</span></div>\n",
              "                        <div><span class='flex_pp' style='color: #cccc66'>231.2pp</span> <span class='flex_weight' style='color: black'></span></div>\n",
              "                    </div>\n",
              "                    <div class='flex_str_bottom_right'>\n",
              "                        <div class='flex_rank' style='color: #636EFA'>#26</div>\n",
              "                    </div>\n",
              "                </div>\n",
              "                 \n",
              "                <div class='flex_item'><a href=\"https://www.beatleader.xyz/leaderboard/global/8aa291\" target=\"_blank\"><img src=\"https://eu.cdn.beatsaver.com/40097f7ed852d6886f6ebcfeefe42ac2f1af0958.jpg\" style=\"width:200px;height:200px\"/></a><br/>\n",
              "                    <div class='flex_str_top'>\n",
              "                        <div class='flex_song'><b>L'Ultima Cena  </b><br /> Laur<br />[Awagi]</div>\n",
              "                    </div>\n",
              "                    <div class='flex_str_bottom_left'>\n",
              "                        <div style='color: #8E24AA; font-weight: bold;'><span= class='flex_diff'>Ex+</span> <span class='flex_star'>6.87★</span></div>\n",
              "                        <div><span class='flex_fc' style='color: black'></span> <span class='flex_acc' style='color: #ffaaff; font-weight: bold;'>89.54%</span></div>\n",
              "                        <div><span class='flex_pp' style='color: #cccc66'>230.3pp</span> <span class='flex_weight' style='color: black'></span></div>\n",
              "                    </div>\n",
              "                    <div class='flex_str_bottom_right'>\n",
              "                        <div class='flex_rank' style='color: #636EFA'>#21</div>\n",
              "                    </div>\n",
              "                </div>\n",
              "                 \n",
              "                <div class='flex_item'><a href=\"https://www.beatleader.xyz/leaderboard/global/1b14891\" target=\"_blank\"><img src=\"https://eu.cdn.beatsaver.com/169d407a1b6c02f8fc4ec56eb4cc5b152d658457.jpg\" style=\"width:200px;height:200px\"/></a><br/>\n",
              "                    <div class='flex_str_top'>\n",
              "                        <div class='flex_song'><b>Metal Bat  </b><br /> RoomTone<br />[ThyYeet vs. Jhintleman]</div>\n",
              "                    </div>\n",
              "                    <div class='flex_str_bottom_left'>\n",
              "                        <div style='color: #8E24AA; font-weight: bold;'><span= class='flex_diff'>Ex+</span> <span class='flex_star'>6.40★</span></div>\n",
              "                        <div><span class='flex_fc' style='color: black'></span> <span class='flex_acc' style='color: #ff4500; font-weight: bold;'>91.11%</span></div>\n",
              "                        <div><span class='flex_pp' style='color: #cccc66'>228.6pp</span> <span class='flex_weight' style='color: black'></span></div>\n",
              "                    </div>\n",
              "                    <div class='flex_str_bottom_right'>\n",
              "                        <div class='flex_rank' style='color: #ff4500'>#63</div>\n",
              "                    </div>\n",
              "                </div>\n",
              "                 \n",
              "                <div class='flex_item'><a href=\"https://www.beatleader.xyz/leaderboard/global/1bf9691\" target=\"_blank\"><img src=\"https://eu.cdn.beatsaver.com/d4567c5e32d8eb66dbccb169d5e2a267d340385a.jpg\" style=\"width:200px;height:200px\"/></a><br/>\n",
              "                    <div class='flex_str_top'>\n",
              "                        <div class='flex_song'><b>FLUFFY FLASH  </b><br /> Kobaryo<br />[RichardLH]</div>\n",
              "                    </div>\n",
              "                    <div class='flex_str_bottom_left'>\n",
              "                        <div style='color: #8E24AA; font-weight: bold;'><span= class='flex_diff'>Ex+</span> <span class='flex_star'>8.99★</span></div>\n",
              "                        <div><span class='flex_fc' style='color: black'></span> <span class='flex_acc' style='color: #ffcc66; font-weight: bold;'>79.47%</span></div>\n",
              "                        <div><span class='flex_pp' style='color: #cccc66'>227.3pp</span> <span class='flex_weight' style='color: black'></span></div>\n",
              "                    </div>\n",
              "                    <div class='flex_str_bottom_right'>\n",
              "                        <div class='flex_rank' style='color: #ffaaff'>#311</div>\n",
              "                    </div>\n",
              "                </div>\n",
              "                 \n",
              "                <div class='flex_item'><a href=\"https://www.beatleader.xyz/leaderboard/global/b64271\" target=\"_blank\"><img src=\"https://eu.cdn.beatsaver.com/3054c83ed7170a77b1d98f4381123bdb95485421.jpg\" style=\"width:200px;height:200px\"/></a><br/>\n",
              "                    <div class='flex_str_top'>\n",
              "                        <div class='flex_song'><b>T.R.Y Revolution  </b><br /> Halozy<br />[Kival Evan]</div>\n",
              "                    </div>\n",
              "                    <div class='flex_str_bottom_left'>\n",
              "                        <div style='color: #E53935; font-weight: bold;'><span= class='flex_diff'>Ex</span> <span class='flex_star'>6.13★</span></div>\n",
              "                        <div><span class='flex_fc' style='color: black'></span> <span class='flex_acc' style='color: #ff4500; font-weight: bold;'>91.86%</span></div>\n",
              "                        <div><span class='flex_pp' style='color: #cccc66'>226.3pp</span> <span class='flex_weight' style='color: black'></span></div>\n",
              "                    </div>\n",
              "                    <div class='flex_str_bottom_right'>\n",
              "                        <div class='flex_rank' style='color: #636EFA'>#17</div>\n",
              "                    </div>\n",
              "                </div>\n",
              "                 \n",
              "                <div class='flex_item'><a href=\"https://www.beatleader.xyz/leaderboard/global/108f591\" target=\"_blank\"><img src=\"https://eu.cdn.beatsaver.com/636c13f49eb90c255c6d04df26e9aed336247344.jpg\" style=\"width:200px;height:200px\"/></a><br/>\n",
              "                    <div class='flex_str_top'>\n",
              "                        <div class='flex_song'><b>Tonchiki ranchiki chindon kikou (feat. Hatsune Miku) </b><br /> HaTa<br />[SieR]</div>\n",
              "                    </div>\n",
              "                    <div class='flex_str_bottom_left'>\n",
              "                        <div style='color: #8E24AA; font-weight: bold;'><span= class='flex_diff'>Ex+</span> <span class='flex_star'>8.27★</span></div>\n",
              "                        <div><span class='flex_fc' style='color: black'></span> <span class='flex_acc' style='color: #ffaaff; font-weight: bold;'>82.87%</span></div>\n",
              "                        <div><span class='flex_pp' style='color: #cccc66'>225.7pp</span> <span class='flex_weight' style='color: black'></span></div>\n",
              "                    </div>\n",
              "                    <div class='flex_str_bottom_right'>\n",
              "                        <div class='flex_rank' style='color: #636EFA'>#50</div>\n",
              "                    </div>\n",
              "                </div>\n",
              "                 \n",
              "                <div class='flex_item'><a href=\"https://www.beatleader.xyz/leaderboard/global/1fa2151\" target=\"_blank\"><img src=\"https://eu.cdn.beatsaver.com/8e6bc0438a81c60aeec4e9afb937145fc9ecd947.jpg\" style=\"width:200px;height:200px\"/></a><br/>\n",
              "                    <div class='flex_str_top'>\n",
              "                        <div class='flex_song'><b>Chakra  </b><br /> uma<br />[Jabob]</div>\n",
              "                    </div>\n",
              "                    <div class='flex_str_bottom_left'>\n",
              "                        <div style='color: #FB8C00; font-weight: bold;'><span= class='flex_diff'>H</span> <span class='flex_star'>5.30★</span></div>\n",
              "                        <div><span class='flex_fc' style='color: black'></span> <span class='flex_acc' style='color: #ff4500; font-weight: bold;'>94.38%</span></div>\n",
              "                        <div><span class='flex_pp' style='color: #cccc66'>224.6pp</span> <span class='flex_weight' style='color: black'></span></div>\n",
              "                    </div>\n",
              "                    <div class='flex_str_bottom_right'>\n",
              "                        <div class='flex_rank' style='color: #ff4500'>#51</div>\n",
              "                    </div>\n",
              "                </div>\n",
              "                 \n",
              "                <div class='flex_item'><a href=\"https://www.beatleader.xyz/leaderboard/global/1b49e71\" target=\"_blank\"><img src=\"https://eu.cdn.beatsaver.com/97630887aa16ea4d311ce5171f0894ea3fa78625.jpg\" style=\"width:200px;height:200px\"/></a><br/>\n",
              "                    <div class='flex_str_top'>\n",
              "                        <div class='flex_song'><b>Darling Dance (YuNi Cover) </b><br /> Kairiki Bear<br />[Emir]</div>\n",
              "                    </div>\n",
              "                    <div class='flex_str_bottom_left'>\n",
              "                        <div style='color: #E53935; font-weight: bold;'><span= class='flex_diff'>Ex</span> <span class='flex_star'>7.14★</span></div>\n",
              "                        <div><span class='flex_fc' style='color: black'></span> <span class='flex_acc' style='color: #ffaaff; font-weight: bold;'>87.63%</span></div>\n",
              "                        <div><span class='flex_pp' style='color: #cccc66'>223.0pp</span> <span class='flex_weight' style='color: black'></span></div>\n",
              "                    </div>\n",
              "                    <div class='flex_str_bottom_right'>\n",
              "                        <div class='flex_rank' style='color: #ff4500'>#63</div>\n",
              "                    </div>\n",
              "                </div>\n",
              "                 \n",
              "                <div class='flex_item'><a href=\"https://www.beatleader.xyz/leaderboard/global/1a2ff91\" target=\"_blank\"><img src=\"https://eu.cdn.beatsaver.com/0a6a9bd7436b2fbd452d19f078860263bca5aa94.jpg\" style=\"width:200px;height:200px\"/></a><br/>\n",
              "                    <div class='flex_str_top'>\n",
              "                        <div class='flex_song'><b>what was the last thing u said  </b><br /> aldn & glaive<br />[nolan121405]</div>\n",
              "                    </div>\n",
              "                    <div class='flex_str_bottom_left'>\n",
              "                        <div style='color: #8E24AA; font-weight: bold;'><span= class='flex_diff'>Ex+</span> <span class='flex_star'>6.17★</span></div>\n",
              "                        <div><span class='flex_fc' style='color: black'></span> <span class='flex_acc' style='color: #ff4500; font-weight: bold;'>91.26%</span></div>\n",
              "                        <div><span class='flex_pp' style='color: #cccc66'>221.3pp</span> <span class='flex_weight' style='color: black'></span></div>\n",
              "                    </div>\n",
              "                    <div class='flex_str_bottom_right'>\n",
              "                        <div class='flex_rank' style='color: #ffaaff'>#157</div>\n",
              "                    </div>\n",
              "                </div>\n",
              "                 \n",
              "                <div class='flex_item'><a href=\"https://www.beatleader.xyz/leaderboard/global/17f3891\" target=\"_blank\"><img src=\"https://eu.cdn.beatsaver.com/1aaf5fc389d79f2e343e3bcfd1ab1162ff785e99.jpg\" style=\"width:200px;height:200px\"/></a><br/>\n",
              "                    <div class='flex_str_top'>\n",
              "                        <div class='flex_song'><b>Aether  </b><br /> Geoxor<br />[PogU]</div>\n",
              "                    </div>\n",
              "                    <div class='flex_str_bottom_left'>\n",
              "                        <div style='color: #8E24AA; font-weight: bold;'><span= class='flex_diff'>Ex+</span> <span class='flex_star'>4.90★</span></div>\n",
              "                        <div><span class='flex_fc' style='color: #23D160'>FC</span> <span class='flex_acc' style='color: #636EFA; font-weight: bold;'>95.18%</span></div>\n",
              "                        <div><span class='flex_pp' style='color: #cccc66'>219.1pp</span> <span class='flex_weight' style='color: black'></span></div>\n",
              "                    </div>\n",
              "                    <div class='flex_str_bottom_right'>\n",
              "                        <div class='flex_rank' style='color: #ffaaff'>#125</div>\n",
              "                    </div>\n",
              "                </div>\n",
              "                </div></div>\n",
              "        <style>\n",
              "        .flex_box {\n",
              "            width:1000px;\n",
              "            display: flex; /* フレックスボックスにする */;\n",
              "            flex-wrap: wrap;\n",
              "            padding:0px;\n",
              "            margin:0px;\n",
              "        }\n",
              "        .flex_item {\n",
              "            display: inline-block;\n",
              "            position: relative;\n",
              "            padding:0px 5px 0px 0px;\n",
              "            margin:0px;\n",
              "        }\n",
              "        .flex_str_top, .flex_str_bottom_left, .flex_str_bottom_right{\n",
              "            position: absolute;\n",
              "            font-weight: bold;\n",
              "            white-space:nowrap;\n",
              "            overflow:hidden;\n",
              "            color: #000;\n",
              "            width:190px;\n",
              "            text-shadow:1px 1px 0 #FFF, -1px -1px 0 #FFF,\n",
              "                    -1px 1px 0 #FFF, 1px -1px 0 #FFF,\n",
              "                    0px 1px 0 #FFF,  0-1px 0 #FFF,\n",
              "                    -1px 0 0 #FFF, 1px 0 0 #FFF;\n",
              "        }\n",
              "\n",
              "        .flex_str_top {\n",
              "            left: 5px;\n",
              "            top: 5px;\n",
              "        }\n",
              "\n",
              "        .flex_str_bottom_left {\n",
              "            text-align:right;\n",
              "            left: 5px;\n",
              "            bottom: 5px;\n",
              "        }\n",
              "\n",
              "        .flex_str_bottom_right {\n",
              "            left: 5px;\n",
              "            bottom: 5px;\n",
              "        }\n",
              "\n",
              "        .flex_star, .flex_acc, .flex_accrank, .flex_fc ,.flex_pp, .flex_weight {\n",
              "            padding:0px;\n",
              "            margin:0px;\n",
              "            text-align:right;\n",
              "        }\n",
              "\n",
              "        .flex_star{\n",
              "            font-size: 18px;\n",
              "        }\n",
              "\n",
              "        .flex_diff{\n",
              "            font-size: 18px;\n",
              "        }\n",
              "\n",
              "        .flex_acc{\n",
              "            font-size: 18px;\n",
              "        }\n",
              "\n",
              "        .flex_fc {\n",
              "            font-size: 18px;\n",
              "        }\n",
              "\n",
              "        .flex_pp{\n",
              "            font-size: 22px;\n",
              "        }\n",
              "\n",
              "        .flex_weight{\n",
              "            font-size: 14px;\n",
              "        }\n",
              "\n",
              "        .flex_rank {\n",
              "            padding:0px;\n",
              "            margin:0px;\n",
              "            font-size: 22px;\n",
              "        }\n",
              "\n",
              "        .flex_player{\n",
              "            font-size: 22px;\n",
              "        }\n",
              "        </style>\n",
              "        "
            ]
          },
          "metadata": {},
          "execution_count": 105
        }
      ]
    }
  ],
  "metadata": {
    "colab": {
      "collapsed_sections": [],
      "provenance": [],
      "include_colab_link": true
    },
    "hide_input": false,
    "kernelspec": {
      "display_name": "Python 3 (ipykernel)",
      "language": "python",
      "name": "python3"
    },
    "language_info": {
      "codemirror_mode": {
        "name": "ipython",
        "version": 3
      },
      "file_extension": ".py",
      "mimetype": "text/x-python",
      "name": "python",
      "nbconvert_exporter": "python",
      "pygments_lexer": "ipython3",
      "version": "3.7.9"
    },
    "toc": {
      "base_numbering": 1,
      "nav_menu": {},
      "number_sections": true,
      "sideBar": true,
      "skip_h1_title": false,
      "title_cell": "Table of Contents",
      "title_sidebar": "Contents",
      "toc_cell": false,
      "toc_position": {},
      "toc_section_display": true,
      "toc_window_display": false
    }
  },
  "nbformat": 4,
  "nbformat_minor": 5
}